{
  "nbformat": 4,
  "nbformat_minor": 0,
  "metadata": {
    "colab": {
      "name": "ML_INTERMEDIATE_SMS_SPAM_DETECTION.ipynb",
      "provenance": [],
      "collapsed_sections": [],
      "authorship_tag": "ABX9TyMCV1/GBsn8OE5RZyFUnZND",
      "include_colab_link": true
    },
    "kernelspec": {
      "name": "python3",
      "display_name": "Python 3"
    }
  },
  "cells": [
    {
      "cell_type": "markdown",
      "metadata": {
        "id": "view-in-github",
        "colab_type": "text"
      },
      "source": [
        "<a href=\"https://colab.research.google.com/github/padmapriyajain/MyPythonworld/blob/master/ML_INTERMEDIATE_SMS_SPAM_DETECTION.ipynb\" target=\"_parent\"><img src=\"https://colab.research.google.com/assets/colab-badge.svg\" alt=\"Open In Colab\"/></a>"
      ]
    },
    {
      "cell_type": "markdown",
      "metadata": {
        "id": "-1mc948lX-Dc"
      },
      "source": [
        "# INSAID ML INTERMEDIATE PROJECT - SMS SPAM DETECTION"
      ]
    },
    {
      "cell_type": "markdown",
      "metadata": {
        "id": "0HaCQna3ZfNR"
      },
      "source": [
        "<img src =  'https://github.com/padmapriyajain/MyPythonworld/blob/master/IMG3.jpg?raw=true' width=\"750\" height=\"250\">\r\n",
        "\r\n"
      ]
    },
    {
      "cell_type": "markdown",
      "metadata": {
        "id": "8LPka4j0xB6r"
      },
      "source": [
        "# Table of Contents\r\n",
        "\r\n",
        "1. [INTRODUCTION](#section1) <br>\r\n",
        "  - 1.1 [PROBLEM STATEMENT](#section101)<br>\r\n",
        "  - 1.2 [IMPORT LIBRARIES AND DATA](#section102)<br>\r\n",
        "2. [DATA DESCRIPTION](#section2) <br>\r\n",
        "3. [DATA PREPOCESSING](#section3)<br>\r\n",
        "4. [EXPLORATORY DATA ANALYSIS](#section4)<br>\r\n",
        "  - 4.1 [What is the spam and ham distribution in the data?](#section401)<br>\r\n",
        "  - 4.2 [What is the variations in the actual messages length based on ham or spam?](#section402)<br>\r\n",
        "  - 4.3 [What is the variations in the processed messages length based on ham or spam?](#section403)<br>\r\n",
        "  - 4.4 [What are the most common words used in ham and spam messages?](#section404)<br>\r\n",
        "5. [GENERATING FEATURES AND SCALING OF DATA](#section5)<br>\r\n",
        "6. [MODEL PREDICTIONS](#section6)<br>\r\n",
        "  - 6.1 [Train Test Split](#section601)\r\n",
        "  - 6.2 [Import required libraries for predictions](#section602)\r\n",
        "  - 6.3 [Define functions for performing modeling and predictions](#section603)\r\n",
        "    - 6.3.1 [Function for running models and printing scores](#section60301)\r\n",
        "    - 6.3.2 [Function to get the metrics](#section60302)\r\n",
        "    - 6.3.3 [Function for performing randomized search](#section60303)\r\n",
        "  - 6.4 [Model Prediction](#section604)\r\n",
        "    - 6.4.1 [Base Model Prediction and Metrics](#section60401)\r\n",
        "    - 6.4.2 [Parameterized Model Predictions and Metrics](#section60302)\r\n",
        "    - 6.4.3 [Parameterized K Nearest Neighbour](#section60303)\r\n",
        "7. [CONCLUSION](#section7)<br>"
      ]
    },
    {
      "cell_type": "markdown",
      "metadata": {
        "id": "tGcjMiMueHB1"
      },
      "source": [
        "<a id='section1'></a>\r\n",
        "# 1. INTRODUCTION:\r\n",
        "\r\n",
        "I am M Padmapriya, student of Jan 2020 cohort. I have takenup the SMS SPAM DETECTION dataset for my ML INTERMEDIATE project.\r\n",
        "\r\n",
        "<a id=section101></a> \r\n",
        "## 1.1 PROBLEM STATEMENT\r\n",
        "\r\n",
        "This dataset is a set of SMS tagged messages that have been collected for SMS Spam research. It contains one set of SMS messages in English of 5,574 messages, tagged acording being ham (legitimate) or spam.\r\n",
        "\r\n",
        "The files contain one message per line. Each line is composed by two columns: v1 contains the label (ham or spam) and v2 contains the raw text.\r\n",
        "\r\n",
        "Can you use this dataset to build a prediction model that will accurately classify which texts are spam??"
      ]
    },
    {
      "cell_type": "markdown",
      "metadata": {
        "id": "uBfTYdV6gtCI"
      },
      "source": [
        "<a id=section102></a> \r\n",
        "## 1.2 IMPORT LIBRARIES AND DATA"
      ]
    },
    {
      "cell_type": "code",
      "metadata": {
        "id": "dI1q7eXvY-br"
      },
      "source": [
        "import sys                                                                      # Import packages\r\n",
        "import pandas as pd\r\n",
        "import seaborn as sns\r\n",
        "import numpy as np\r\n",
        "import matplotlib.pyplot as plt\r\n",
        "from matplotlib.pyplot import pie, axis, show\r\n",
        "%matplotlib inline                   \r\n",
        "from IPython.core.interactiveshell import InteractiveShell\r\n",
        "InteractiveShell.ast_node_interactivity= 'all' \r\n",
        "\r\n",
        "import warnings \r\n",
        "# Ignore warning related to pandas_profiling                                                                \r\n",
        "warnings.filterwarnings('ignore') \r\n",
        "\r\n",
        "# Display all dataframe columns in outputs (it has 27 columns, which is wider than the notebook)\r\n",
        "# This sets it up to dispaly with a horizontal scroll instead of hiding the middle columns\r\n",
        "pd.set_option('display.max_columns', 100)                                       \r\n",
        "\r\n",
        "# Load the dataset to df_sms dataframe\r\n",
        "df_sms = pd.read_csv(\"https://raw.githubusercontent.com/insaid2018/Term-3/master/Projects/spam.csv\", encoding = \"latin-1\")     "
      ],
      "execution_count": 1,
      "outputs": []
    },
    {
      "cell_type": "markdown",
      "metadata": {
        "id": "Q5ETy3xzijqf"
      },
      "source": [
        "<a id='section2'></a> \r\n",
        "# 2. DATA DESCRIPTION"
      ]
    },
    {
      "cell_type": "code",
      "metadata": {
        "colab": {
          "base_uri": "https://localhost:8080/",
          "height": 195
        },
        "id": "ubUzVQhTisbU",
        "outputId": "4633e3e0-8f6d-4d4b-9746-7f42466f1674"
      },
      "source": [
        "# Display sample of data:\r\n",
        "df_sms.sample(5)"
      ],
      "execution_count": 2,
      "outputs": [
        {
          "output_type": "execute_result",
          "data": {
            "text/html": [
              "<div>\n",
              "<style scoped>\n",
              "    .dataframe tbody tr th:only-of-type {\n",
              "        vertical-align: middle;\n",
              "    }\n",
              "\n",
              "    .dataframe tbody tr th {\n",
              "        vertical-align: top;\n",
              "    }\n",
              "\n",
              "    .dataframe thead th {\n",
              "        text-align: right;\n",
              "    }\n",
              "</style>\n",
              "<table border=\"1\" class=\"dataframe\">\n",
              "  <thead>\n",
              "    <tr style=\"text-align: right;\">\n",
              "      <th></th>\n",
              "      <th>v1</th>\n",
              "      <th>v2</th>\n",
              "      <th>Unnamed: 2</th>\n",
              "      <th>Unnamed: 3</th>\n",
              "      <th>Unnamed: 4</th>\n",
              "    </tr>\n",
              "  </thead>\n",
              "  <tbody>\n",
              "    <tr>\n",
              "      <th>3055</th>\n",
              "      <td>ham</td>\n",
              "      <td>Webpage s not available!</td>\n",
              "      <td>NaN</td>\n",
              "      <td>NaN</td>\n",
              "      <td>NaN</td>\n",
              "    </tr>\n",
              "    <tr>\n",
              "      <th>4960</th>\n",
              "      <td>ham</td>\n",
              "      <td>A bit of Ur smile is my hppnss, a drop of Ur t...</td>\n",
              "      <td>NaN</td>\n",
              "      <td>NaN</td>\n",
              "      <td>NaN</td>\n",
              "    </tr>\n",
              "    <tr>\n",
              "      <th>8</th>\n",
              "      <td>spam</td>\n",
              "      <td>WINNER!! As a valued network customer you have...</td>\n",
              "      <td>NaN</td>\n",
              "      <td>NaN</td>\n",
              "      <td>NaN</td>\n",
              "    </tr>\n",
              "    <tr>\n",
              "      <th>5344</th>\n",
              "      <td>ham</td>\n",
              "      <td>When you guys planning on coming over?</td>\n",
              "      <td>NaN</td>\n",
              "      <td>NaN</td>\n",
              "      <td>NaN</td>\n",
              "    </tr>\n",
              "    <tr>\n",
              "      <th>4000</th>\n",
              "      <td>ham</td>\n",
              "      <td>He's just gonna worry for nothing. And he won'...</td>\n",
              "      <td>NaN</td>\n",
              "      <td>NaN</td>\n",
              "      <td>NaN</td>\n",
              "    </tr>\n",
              "  </tbody>\n",
              "</table>\n",
              "</div>"
            ],
            "text/plain": [
              "        v1                                                 v2 Unnamed: 2  \\\n",
              "3055   ham                           Webpage s not available!        NaN   \n",
              "4960   ham  A bit of Ur smile is my hppnss, a drop of Ur t...        NaN   \n",
              "8     spam  WINNER!! As a valued network customer you have...        NaN   \n",
              "5344   ham             When you guys planning on coming over?        NaN   \n",
              "4000   ham  He's just gonna worry for nothing. And he won'...        NaN   \n",
              "\n",
              "     Unnamed: 3 Unnamed: 4  \n",
              "3055        NaN        NaN  \n",
              "4960        NaN        NaN  \n",
              "8           NaN        NaN  \n",
              "5344        NaN        NaN  \n",
              "4000        NaN        NaN  "
            ]
          },
          "metadata": {
            "tags": []
          },
          "execution_count": 2
        }
      ]
    },
    {
      "cell_type": "code",
      "metadata": {
        "colab": {
          "base_uri": "https://localhost:8080/"
        },
        "id": "C1HKPB1oi8_6",
        "outputId": "c4c768a1-8633-490a-b5ce-be35e097ed1e"
      },
      "source": [
        "# Lets perform .info on the data:\r\n",
        "df_sms.info()"
      ],
      "execution_count": 3,
      "outputs": [
        {
          "output_type": "stream",
          "text": [
            "<class 'pandas.core.frame.DataFrame'>\n",
            "RangeIndex: 5572 entries, 0 to 5571\n",
            "Data columns (total 5 columns):\n",
            " #   Column      Non-Null Count  Dtype \n",
            "---  ------      --------------  ----- \n",
            " 0   v1          5572 non-null   object\n",
            " 1   v2          5572 non-null   object\n",
            " 2   Unnamed: 2  50 non-null     object\n",
            " 3   Unnamed: 3  12 non-null     object\n",
            " 4   Unnamed: 4  6 non-null      object\n",
            "dtypes: object(5)\n",
            "memory usage: 217.8+ KB\n"
          ],
          "name": "stdout"
        }
      ]
    },
    {
      "cell_type": "markdown",
      "metadata": {
        "id": "fLJiz_wijD4T"
      },
      "source": [
        "Observations: SMS SPAM DETECTION dataset has - \r\n",
        "  * 5572 observations/messages\r\n",
        "  * 5 columns\r\n",
        "  * Columns ( Unamed: 2, Unamed: 3 and Unamed: 4) has a lot of missing values\r\n"
      ]
    },
    {
      "cell_type": "code",
      "metadata": {
        "colab": {
          "base_uri": "https://localhost:8080/",
          "height": 166
        },
        "id": "41rIeaO2jyrF",
        "outputId": "b995c26d-4648-4f08-95b8-b4db284ad109"
      },
      "source": [
        "# Lets perform .describe on the data:\r\n",
        "df_sms.describe(include='all')"
      ],
      "execution_count": 4,
      "outputs": [
        {
          "output_type": "execute_result",
          "data": {
            "text/html": [
              "<div>\n",
              "<style scoped>\n",
              "    .dataframe tbody tr th:only-of-type {\n",
              "        vertical-align: middle;\n",
              "    }\n",
              "\n",
              "    .dataframe tbody tr th {\n",
              "        vertical-align: top;\n",
              "    }\n",
              "\n",
              "    .dataframe thead th {\n",
              "        text-align: right;\n",
              "    }\n",
              "</style>\n",
              "<table border=\"1\" class=\"dataframe\">\n",
              "  <thead>\n",
              "    <tr style=\"text-align: right;\">\n",
              "      <th></th>\n",
              "      <th>v1</th>\n",
              "      <th>v2</th>\n",
              "      <th>Unnamed: 2</th>\n",
              "      <th>Unnamed: 3</th>\n",
              "      <th>Unnamed: 4</th>\n",
              "    </tr>\n",
              "  </thead>\n",
              "  <tbody>\n",
              "    <tr>\n",
              "      <th>count</th>\n",
              "      <td>5572</td>\n",
              "      <td>5572</td>\n",
              "      <td>50</td>\n",
              "      <td>12</td>\n",
              "      <td>6</td>\n",
              "    </tr>\n",
              "    <tr>\n",
              "      <th>unique</th>\n",
              "      <td>2</td>\n",
              "      <td>5169</td>\n",
              "      <td>43</td>\n",
              "      <td>10</td>\n",
              "      <td>5</td>\n",
              "    </tr>\n",
              "    <tr>\n",
              "      <th>top</th>\n",
              "      <td>ham</td>\n",
              "      <td>Sorry, I'll call later</td>\n",
              "      <td>bt not his girlfrnd... G o o d n i g h t . . .@\"</td>\n",
              "      <td>MK17 92H. 450Ppw 16\"</td>\n",
              "      <td>GNT:-)\"</td>\n",
              "    </tr>\n",
              "    <tr>\n",
              "      <th>freq</th>\n",
              "      <td>4825</td>\n",
              "      <td>30</td>\n",
              "      <td>3</td>\n",
              "      <td>2</td>\n",
              "      <td>2</td>\n",
              "    </tr>\n",
              "  </tbody>\n",
              "</table>\n",
              "</div>"
            ],
            "text/plain": [
              "          v1                      v2  \\\n",
              "count   5572                    5572   \n",
              "unique     2                    5169   \n",
              "top      ham  Sorry, I'll call later   \n",
              "freq    4825                      30   \n",
              "\n",
              "                                               Unnamed: 2  \\\n",
              "count                                                  50   \n",
              "unique                                                 43   \n",
              "top      bt not his girlfrnd... G o o d n i g h t . . .@\"   \n",
              "freq                                                    3   \n",
              "\n",
              "                   Unnamed: 3 Unnamed: 4  \n",
              "count                      12          6  \n",
              "unique                     10          5  \n",
              "top      MK17 92H. 450Ppw 16\"    GNT:-)\"  \n",
              "freq                        2          2  "
            ]
          },
          "metadata": {
            "tags": []
          },
          "execution_count": 4
        }
      ]
    },
    {
      "cell_type": "markdown",
      "metadata": {
        "id": "onc0TaUHkSmi"
      },
      "source": [
        "Observations:\r\n",
        "  * v1 and v2 has no missing values unlike the other 3 columns.\r\n",
        "  * v1 column is the \"target\" which has 2 unique values and \"ham\" seems to be the top value with a frequency of 4825.\r\n",
        "  * v2 column has 5169 unique values and \"Sorry, I'll call later bt not his girlfrnd\" has been repeated for 30 times in the dataset.\r\n",
        "  * Unamed: 2, Unamed: 3 and Unamed: 4 has very less values out of which most of them are unique values respectively.\r\n",
        "\r\n"
      ]
    },
    {
      "cell_type": "markdown",
      "metadata": {
        "id": "Z04mcRp1n6lT"
      },
      "source": [
        "Decisions:\r\n",
        "  * Unamed: 2, Unamed: 3 and Unamed: 4 has a lot of null values hence it can be dropped.\r\n",
        "  * v1 and v2 names can be replaced with 'spam' and 'messages'\r\n",
        "  * v1 has 2 values \"ham\" and \"spam\", which can be replaced with 0 and 1\r\n",
        "  * v2 has text values which needs to be processed and converted to a numerical notation before modelling the dataset."
      ]
    },
    {
      "cell_type": "markdown",
      "metadata": {
        "id": "JO7slwjToqnA"
      },
      "source": [
        "<a id='section3'></a> \r\n",
        "# 3. DATA PREPROCESSING"
      ]
    },
    {
      "cell_type": "code",
      "metadata": {
        "colab": {
          "base_uri": "https://localhost:8080/",
          "height": 195
        },
        "id": "kDPQuDl71-1E",
        "outputId": "16a93ddc-7093-4f8d-8186-f74b279c579c"
      },
      "source": [
        "# Drop unwanted columns:\r\n",
        "df_sms.drop(['Unnamed: 2', 'Unnamed: 3', 'Unnamed: 4'], axis=1, inplace=True)\r\n",
        "df_sms.head(5)"
      ],
      "execution_count": 5,
      "outputs": [
        {
          "output_type": "execute_result",
          "data": {
            "text/html": [
              "<div>\n",
              "<style scoped>\n",
              "    .dataframe tbody tr th:only-of-type {\n",
              "        vertical-align: middle;\n",
              "    }\n",
              "\n",
              "    .dataframe tbody tr th {\n",
              "        vertical-align: top;\n",
              "    }\n",
              "\n",
              "    .dataframe thead th {\n",
              "        text-align: right;\n",
              "    }\n",
              "</style>\n",
              "<table border=\"1\" class=\"dataframe\">\n",
              "  <thead>\n",
              "    <tr style=\"text-align: right;\">\n",
              "      <th></th>\n",
              "      <th>v1</th>\n",
              "      <th>v2</th>\n",
              "    </tr>\n",
              "  </thead>\n",
              "  <tbody>\n",
              "    <tr>\n",
              "      <th>0</th>\n",
              "      <td>ham</td>\n",
              "      <td>Go until jurong point, crazy.. Available only ...</td>\n",
              "    </tr>\n",
              "    <tr>\n",
              "      <th>1</th>\n",
              "      <td>ham</td>\n",
              "      <td>Ok lar... Joking wif u oni...</td>\n",
              "    </tr>\n",
              "    <tr>\n",
              "      <th>2</th>\n",
              "      <td>spam</td>\n",
              "      <td>Free entry in 2 a wkly comp to win FA Cup fina...</td>\n",
              "    </tr>\n",
              "    <tr>\n",
              "      <th>3</th>\n",
              "      <td>ham</td>\n",
              "      <td>U dun say so early hor... U c already then say...</td>\n",
              "    </tr>\n",
              "    <tr>\n",
              "      <th>4</th>\n",
              "      <td>ham</td>\n",
              "      <td>Nah I don't think he goes to usf, he lives aro...</td>\n",
              "    </tr>\n",
              "  </tbody>\n",
              "</table>\n",
              "</div>"
            ],
            "text/plain": [
              "     v1                                                 v2\n",
              "0   ham  Go until jurong point, crazy.. Available only ...\n",
              "1   ham                      Ok lar... Joking wif u oni...\n",
              "2  spam  Free entry in 2 a wkly comp to win FA Cup fina...\n",
              "3   ham  U dun say so early hor... U c already then say...\n",
              "4   ham  Nah I don't think he goes to usf, he lives aro..."
            ]
          },
          "metadata": {
            "tags": []
          },
          "execution_count": 5
        }
      ]
    },
    {
      "cell_type": "code",
      "metadata": {
        "colab": {
          "base_uri": "https://localhost:8080/",
          "height": 195
        },
        "id": "BzvFYvYF4fb1",
        "outputId": "69ac6645-4426-4279-c526-0dabf9169ae7"
      },
      "source": [
        "# Change the column names:\r\n",
        "df_sms.rename(columns = {'v1':'spam','v2':'messages'},inplace=True)\r\n",
        "df_sms.head(5)"
      ],
      "execution_count": 6,
      "outputs": [
        {
          "output_type": "execute_result",
          "data": {
            "text/html": [
              "<div>\n",
              "<style scoped>\n",
              "    .dataframe tbody tr th:only-of-type {\n",
              "        vertical-align: middle;\n",
              "    }\n",
              "\n",
              "    .dataframe tbody tr th {\n",
              "        vertical-align: top;\n",
              "    }\n",
              "\n",
              "    .dataframe thead th {\n",
              "        text-align: right;\n",
              "    }\n",
              "</style>\n",
              "<table border=\"1\" class=\"dataframe\">\n",
              "  <thead>\n",
              "    <tr style=\"text-align: right;\">\n",
              "      <th></th>\n",
              "      <th>spam</th>\n",
              "      <th>messages</th>\n",
              "    </tr>\n",
              "  </thead>\n",
              "  <tbody>\n",
              "    <tr>\n",
              "      <th>0</th>\n",
              "      <td>ham</td>\n",
              "      <td>Go until jurong point, crazy.. Available only ...</td>\n",
              "    </tr>\n",
              "    <tr>\n",
              "      <th>1</th>\n",
              "      <td>ham</td>\n",
              "      <td>Ok lar... Joking wif u oni...</td>\n",
              "    </tr>\n",
              "    <tr>\n",
              "      <th>2</th>\n",
              "      <td>spam</td>\n",
              "      <td>Free entry in 2 a wkly comp to win FA Cup fina...</td>\n",
              "    </tr>\n",
              "    <tr>\n",
              "      <th>3</th>\n",
              "      <td>ham</td>\n",
              "      <td>U dun say so early hor... U c already then say...</td>\n",
              "    </tr>\n",
              "    <tr>\n",
              "      <th>4</th>\n",
              "      <td>ham</td>\n",
              "      <td>Nah I don't think he goes to usf, he lives aro...</td>\n",
              "    </tr>\n",
              "  </tbody>\n",
              "</table>\n",
              "</div>"
            ],
            "text/plain": [
              "   spam                                           messages\n",
              "0   ham  Go until jurong point, crazy.. Available only ...\n",
              "1   ham                      Ok lar... Joking wif u oni...\n",
              "2  spam  Free entry in 2 a wkly comp to win FA Cup fina...\n",
              "3   ham  U dun say so early hor... U c already then say...\n",
              "4   ham  Nah I don't think he goes to usf, he lives aro..."
            ]
          },
          "metadata": {
            "tags": []
          },
          "execution_count": 6
        }
      ]
    },
    {
      "cell_type": "code",
      "metadata": {
        "colab": {
          "base_uri": "https://localhost:8080/"
        },
        "id": "pAP2gIws3pSH",
        "outputId": "351e7513-4f0c-4515-8690-26d3940a1347"
      },
      "source": [
        "# values in v1\r\n",
        "spam_count = df_sms.spam.value_counts()\r\n",
        "spam_count\r\n",
        "print(\"\\nThis dataset has\",round(((spam_count[1]/float(spam_count[0]+spam_count[1]))*100), 2), \"% of spam messages.\")"
      ],
      "execution_count": 7,
      "outputs": [
        {
          "output_type": "execute_result",
          "data": {
            "text/plain": [
              "ham     4825\n",
              "spam     747\n",
              "Name: spam, dtype: int64"
            ]
          },
          "metadata": {
            "tags": []
          },
          "execution_count": 7
        },
        {
          "output_type": "stream",
          "text": [
            "\n",
            "This dataset has 13.41 % of spam messages.\n"
          ],
          "name": "stdout"
        }
      ]
    },
    {
      "cell_type": "code",
      "metadata": {
        "colab": {
          "base_uri": "https://localhost:8080/",
          "height": 195
        },
        "id": "8gFg7c0k5rW4",
        "outputId": "d3d3bad2-430c-4b67-fc02-8a7d85727bb6"
      },
      "source": [
        "# Change the \"ham\" as 0 and \"spam\" as 1\r\n",
        "df_sms['spam'] = df_sms.spam.map({'ham':0, 'spam':1})\r\n",
        "df_sms.head(5)"
      ],
      "execution_count": 8,
      "outputs": [
        {
          "output_type": "execute_result",
          "data": {
            "text/html": [
              "<div>\n",
              "<style scoped>\n",
              "    .dataframe tbody tr th:only-of-type {\n",
              "        vertical-align: middle;\n",
              "    }\n",
              "\n",
              "    .dataframe tbody tr th {\n",
              "        vertical-align: top;\n",
              "    }\n",
              "\n",
              "    .dataframe thead th {\n",
              "        text-align: right;\n",
              "    }\n",
              "</style>\n",
              "<table border=\"1\" class=\"dataframe\">\n",
              "  <thead>\n",
              "    <tr style=\"text-align: right;\">\n",
              "      <th></th>\n",
              "      <th>spam</th>\n",
              "      <th>messages</th>\n",
              "    </tr>\n",
              "  </thead>\n",
              "  <tbody>\n",
              "    <tr>\n",
              "      <th>0</th>\n",
              "      <td>0</td>\n",
              "      <td>Go until jurong point, crazy.. Available only ...</td>\n",
              "    </tr>\n",
              "    <tr>\n",
              "      <th>1</th>\n",
              "      <td>0</td>\n",
              "      <td>Ok lar... Joking wif u oni...</td>\n",
              "    </tr>\n",
              "    <tr>\n",
              "      <th>2</th>\n",
              "      <td>1</td>\n",
              "      <td>Free entry in 2 a wkly comp to win FA Cup fina...</td>\n",
              "    </tr>\n",
              "    <tr>\n",
              "      <th>3</th>\n",
              "      <td>0</td>\n",
              "      <td>U dun say so early hor... U c already then say...</td>\n",
              "    </tr>\n",
              "    <tr>\n",
              "      <th>4</th>\n",
              "      <td>0</td>\n",
              "      <td>Nah I don't think he goes to usf, he lives aro...</td>\n",
              "    </tr>\n",
              "  </tbody>\n",
              "</table>\n",
              "</div>"
            ],
            "text/plain": [
              "   spam                                           messages\n",
              "0     0  Go until jurong point, crazy.. Available only ...\n",
              "1     0                      Ok lar... Joking wif u oni...\n",
              "2     1  Free entry in 2 a wkly comp to win FA Cup fina...\n",
              "3     0  U dun say so early hor... U c already then say...\n",
              "4     0  Nah I don't think he goes to usf, he lives aro..."
            ]
          },
          "metadata": {
            "tags": []
          },
          "execution_count": 8
        }
      ]
    },
    {
      "cell_type": "code",
      "metadata": {
        "colab": {
          "base_uri": "https://localhost:8080/",
          "height": 195
        },
        "id": "Dv49D5O68wA1",
        "outputId": "45e39d71-a878-4b92-8657-f3537d785119"
      },
      "source": [
        "# Lets inroduce a new column which gives the length of the messages.\r\n",
        "df_sms[\"msg_length\"] = df_sms[\"messages\"].str.len()\r\n",
        "df_sms.head(5)"
      ],
      "execution_count": 9,
      "outputs": [
        {
          "output_type": "execute_result",
          "data": {
            "text/html": [
              "<div>\n",
              "<style scoped>\n",
              "    .dataframe tbody tr th:only-of-type {\n",
              "        vertical-align: middle;\n",
              "    }\n",
              "\n",
              "    .dataframe tbody tr th {\n",
              "        vertical-align: top;\n",
              "    }\n",
              "\n",
              "    .dataframe thead th {\n",
              "        text-align: right;\n",
              "    }\n",
              "</style>\n",
              "<table border=\"1\" class=\"dataframe\">\n",
              "  <thead>\n",
              "    <tr style=\"text-align: right;\">\n",
              "      <th></th>\n",
              "      <th>spam</th>\n",
              "      <th>messages</th>\n",
              "      <th>msg_length</th>\n",
              "    </tr>\n",
              "  </thead>\n",
              "  <tbody>\n",
              "    <tr>\n",
              "      <th>0</th>\n",
              "      <td>0</td>\n",
              "      <td>Go until jurong point, crazy.. Available only ...</td>\n",
              "      <td>111</td>\n",
              "    </tr>\n",
              "    <tr>\n",
              "      <th>1</th>\n",
              "      <td>0</td>\n",
              "      <td>Ok lar... Joking wif u oni...</td>\n",
              "      <td>29</td>\n",
              "    </tr>\n",
              "    <tr>\n",
              "      <th>2</th>\n",
              "      <td>1</td>\n",
              "      <td>Free entry in 2 a wkly comp to win FA Cup fina...</td>\n",
              "      <td>155</td>\n",
              "    </tr>\n",
              "    <tr>\n",
              "      <th>3</th>\n",
              "      <td>0</td>\n",
              "      <td>U dun say so early hor... U c already then say...</td>\n",
              "      <td>49</td>\n",
              "    </tr>\n",
              "    <tr>\n",
              "      <th>4</th>\n",
              "      <td>0</td>\n",
              "      <td>Nah I don't think he goes to usf, he lives aro...</td>\n",
              "      <td>61</td>\n",
              "    </tr>\n",
              "  </tbody>\n",
              "</table>\n",
              "</div>"
            ],
            "text/plain": [
              "   spam                                           messages  msg_length\n",
              "0     0  Go until jurong point, crazy.. Available only ...         111\n",
              "1     0                      Ok lar... Joking wif u oni...          29\n",
              "2     1  Free entry in 2 a wkly comp to win FA Cup fina...         155\n",
              "3     0  U dun say so early hor... U c already then say...          49\n",
              "4     0  Nah I don't think he goes to usf, he lives aro...          61"
            ]
          },
          "metadata": {
            "tags": []
          },
          "execution_count": 9
        }
      ]
    },
    {
      "cell_type": "code",
      "metadata": {
        "colab": {
          "base_uri": "https://localhost:8080/",
          "height": 35
        },
        "id": "hj4Igq12BrNJ",
        "outputId": "db2b6647-1563-4c78-d91c-5f4d3eb19851"
      },
      "source": [
        "import string\r\n",
        "string.punctuation"
      ],
      "execution_count": 10,
      "outputs": [
        {
          "output_type": "execute_result",
          "data": {
            "application/vnd.google.colaboratory.intrinsic+json": {
              "type": "string"
            },
            "text/plain": [
              "'!\"#$%&\\'()*+,-./:;<=>?@[\\\\]^_`{|}~'"
            ]
          },
          "metadata": {
            "tags": []
          },
          "execution_count": 10
        }
      ]
    },
    {
      "cell_type": "markdown",
      "metadata": {
        "id": "pmtV_XnBBfJ6"
      },
      "source": [
        "The values in the messages columns seems to have:\r\n",
        "1. Words with a-z and A-Z (both lower and upper case)\r\n",
        "2. Use of punctuations (!\"#$%&'()*+,-./:;<=>?@[\\]^_`{|}~)\r\n",
        "3. Use of numbers (0-9)and float values.\r\n",
        "4. Use of whitespaces before and after a word\r\n",
        "5. Use of stopwords (A group of words which are highly frequently used without any additional information, such as articles, determiners and prepositions are called stop-words)\r\n",
        "\r\n",
        "Decision:\r\n",
        "\r\n",
        "We have to cleanup all the above observations from the messages so that we can convert the words to different features."
      ]
    },
    {
      "cell_type": "code",
      "metadata": {
        "id": "eZKDHSUj3EY-"
      },
      "source": [
        "# Replace email addresses with 'email'\r\n",
        "df_sms['processed_msg'] = df_sms.messages.str.replace(r'^.+@[^\\.].*\\.[a-z]{2,}$', 'email')"
      ],
      "execution_count": 11,
      "outputs": []
    },
    {
      "cell_type": "code",
      "metadata": {
        "id": "gFw-a0V94IL4"
      },
      "source": [
        "# Replace web addresses with 'link'\r\n",
        "df_sms['processed_msg'] = df_sms.processed_msg.str.replace(r'^http\\://[a-zA-Z0-9\\-\\.]+\\.[a-zA-Z]{2,3}(/\\S*)?$', 'link')\r\n",
        "df_sms['processed_msg'] = df_sms.processed_msg.str.replace(r'www\\.\\S+\\.com', 'link')\r\n",
        "df_sms['processed_msg'] = df_sms.processed_msg.str.replace(r'www\\.\\S+\\.net', 'link')\r\n",
        "df_sms['processed_msg'] = df_sms.processed_msg.str.replace(r'www\\.\\S+\\.org', 'link')"
      ],
      "execution_count": 12,
      "outputs": []
    },
    {
      "cell_type": "code",
      "metadata": {
        "id": "XflEpS2tGCiV"
      },
      "source": [
        "# Remove punctuations:\r\n",
        "df_sms['processed_msg'] = df_sms.processed_msg.str.replace('[{}]'.format(string.punctuation), '')"
      ],
      "execution_count": 13,
      "outputs": []
    },
    {
      "cell_type": "code",
      "metadata": {
        "id": "XhyMTVKtfLWR"
      },
      "source": [
        "# Replace all numbers with 'number'\r\n",
        "df_sms['processed_msg'] = df_sms.processed_msg.str.replace(r'\\d+(\\.\\d+)?', 'number')\r\n"
      ],
      "execution_count": 14,
      "outputs": []
    },
    {
      "cell_type": "code",
      "metadata": {
        "id": "wB48H06Dqsza"
      },
      "source": [
        "# Replace whitespace between terms with a single space\r\n",
        "df_sms['processed_msg'] = df_sms.processed_msg.str.replace(r'\\s+', ' ')"
      ],
      "execution_count": 15,
      "outputs": []
    },
    {
      "cell_type": "code",
      "metadata": {
        "id": "UN7mU6zXrEzz"
      },
      "source": [
        "# Remove leading and trailing whitespace\r\n",
        "df_sms['processed_msg'] = df_sms.processed_msg.str.replace(r'^\\s+|\\s+?$', '')"
      ],
      "execution_count": 16,
      "outputs": []
    },
    {
      "cell_type": "code",
      "metadata": {
        "id": "UtYjTDXKrm1R"
      },
      "source": [
        "#Replace money symbols with 'currency'\r\n",
        "df_sms['processed_msg'] = df_sms.processed_msg.str.replace(r'£|\\$', 'currency')"
      ],
      "execution_count": 17,
      "outputs": []
    },
    {
      "cell_type": "code",
      "metadata": {
        "id": "Z2gyRtgEwqiG"
      },
      "source": [
        "#Remove non-ascii characters\r\n",
        "df_sms['processed_msg'] = df_sms.processed_msg.str.replace(r'[^\\x00-\\x7f]','')"
      ],
      "execution_count": 18,
      "outputs": []
    },
    {
      "cell_type": "code",
      "metadata": {
        "id": "TCcJFdp34Pv6"
      },
      "source": [
        "# Converting the text to lower case:\r\n",
        "df_sms['processed_msg'] = df_sms.processed_msg.str.lower()"
      ],
      "execution_count": 19,
      "outputs": []
    },
    {
      "cell_type": "code",
      "metadata": {
        "colab": {
          "base_uri": "https://localhost:8080/"
        },
        "id": "x8LXejS9HPPo",
        "outputId": "4e6a0529-a2e9-4ece-8344-e10e5ac04b97"
      },
      "source": [
        "# Remove the stop words:\r\n",
        "import nltk\r\n",
        "nltk.download('stopwords')\r\n",
        "from nltk.corpus import stopwords\r\n",
        "stop_words = set(stopwords.words('english'))\r\n",
        "df_sms['processed_msg'] = df_sms['processed_msg'].apply(lambda x: ' '.join(term for term in x.split() if term not in stop_words))"
      ],
      "execution_count": 20,
      "outputs": [
        {
          "output_type": "stream",
          "text": [
            "[nltk_data] Downloading package stopwords to /root/nltk_data...\n",
            "[nltk_data]   Unzipping corpora/stopwords.zip.\n"
          ],
          "name": "stdout"
        },
        {
          "output_type": "execute_result",
          "data": {
            "text/plain": [
              "True"
            ]
          },
          "metadata": {
            "tags": []
          },
          "execution_count": 20
        }
      ]
    },
    {
      "cell_type": "code",
      "metadata": {
        "id": "v2SQZG5H7SXb"
      },
      "source": [
        "# Stemming of the words: This reduces the word to their word stem like run, running to run\r\n",
        "from nltk.stem import PorterStemmer\r\n",
        "ps = PorterStemmer()\r\n",
        "df_sms['processed_msg'] = df_sms['processed_msg'].apply(lambda x: ' '.join(ps.stem(term) for term in x.split()))"
      ],
      "execution_count": 21,
      "outputs": []
    },
    {
      "cell_type": "code",
      "metadata": {
        "colab": {
          "base_uri": "https://localhost:8080/",
          "height": 195
        },
        "id": "aKJ7kDeOooU2",
        "outputId": "5fb055e6-f5e5-430c-9367-38efd426530a"
      },
      "source": [
        "df_sms['processed_length'] = df_sms['processed_msg'].str.len()\r\n",
        "df_sms.head(5)"
      ],
      "execution_count": 22,
      "outputs": [
        {
          "output_type": "execute_result",
          "data": {
            "text/html": [
              "<div>\n",
              "<style scoped>\n",
              "    .dataframe tbody tr th:only-of-type {\n",
              "        vertical-align: middle;\n",
              "    }\n",
              "\n",
              "    .dataframe tbody tr th {\n",
              "        vertical-align: top;\n",
              "    }\n",
              "\n",
              "    .dataframe thead th {\n",
              "        text-align: right;\n",
              "    }\n",
              "</style>\n",
              "<table border=\"1\" class=\"dataframe\">\n",
              "  <thead>\n",
              "    <tr style=\"text-align: right;\">\n",
              "      <th></th>\n",
              "      <th>spam</th>\n",
              "      <th>messages</th>\n",
              "      <th>msg_length</th>\n",
              "      <th>processed_msg</th>\n",
              "      <th>processed_length</th>\n",
              "    </tr>\n",
              "  </thead>\n",
              "  <tbody>\n",
              "    <tr>\n",
              "      <th>0</th>\n",
              "      <td>0</td>\n",
              "      <td>Go until jurong point, crazy.. Available only ...</td>\n",
              "      <td>111</td>\n",
              "      <td>go jurong point crazi avail bugi n great world...</td>\n",
              "      <td>76</td>\n",
              "    </tr>\n",
              "    <tr>\n",
              "      <th>1</th>\n",
              "      <td>0</td>\n",
              "      <td>Ok lar... Joking wif u oni...</td>\n",
              "      <td>29</td>\n",
              "      <td>ok lar joke wif u oni</td>\n",
              "      <td>21</td>\n",
              "    </tr>\n",
              "    <tr>\n",
              "      <th>2</th>\n",
              "      <td>1</td>\n",
              "      <td>Free entry in 2 a wkly comp to win FA Cup fina...</td>\n",
              "      <td>155</td>\n",
              "      <td>free entri number wkli comp win fa cup final t...</td>\n",
              "      <td>140</td>\n",
              "    </tr>\n",
              "    <tr>\n",
              "      <th>3</th>\n",
              "      <td>0</td>\n",
              "      <td>U dun say so early hor... U c already then say...</td>\n",
              "      <td>49</td>\n",
              "      <td>u dun say earli hor u c alreadi say</td>\n",
              "      <td>35</td>\n",
              "    </tr>\n",
              "    <tr>\n",
              "      <th>4</th>\n",
              "      <td>0</td>\n",
              "      <td>Nah I don't think he goes to usf, he lives aro...</td>\n",
              "      <td>61</td>\n",
              "      <td>nah dont think goe usf live around though</td>\n",
              "      <td>41</td>\n",
              "    </tr>\n",
              "  </tbody>\n",
              "</table>\n",
              "</div>"
            ],
            "text/plain": [
              "   spam                                           messages  msg_length  \\\n",
              "0     0  Go until jurong point, crazy.. Available only ...         111   \n",
              "1     0                      Ok lar... Joking wif u oni...          29   \n",
              "2     1  Free entry in 2 a wkly comp to win FA Cup fina...         155   \n",
              "3     0  U dun say so early hor... U c already then say...          49   \n",
              "4     0  Nah I don't think he goes to usf, he lives aro...          61   \n",
              "\n",
              "                                       processed_msg  processed_length  \n",
              "0  go jurong point crazi avail bugi n great world...                76  \n",
              "1                              ok lar joke wif u oni                21  \n",
              "2  free entri number wkli comp win fa cup final t...               140  \n",
              "3                u dun say earli hor u c alreadi say                35  \n",
              "4          nah dont think goe usf live around though                41  "
            ]
          },
          "metadata": {
            "tags": []
          },
          "execution_count": 22
        }
      ]
    },
    {
      "cell_type": "markdown",
      "metadata": {
        "id": "F6PcLTAg9Vzk"
      },
      "source": [
        "<a id='section4'></a> \r\n",
        "# 4 Exploratory Data Analysis"
      ]
    },
    {
      "cell_type": "markdown",
      "metadata": {
        "id": "3i3DHE0HMCgC"
      },
      "source": [
        "<a id=section401></a>\r\n",
        "## 4.1 What is the spam and ham distribution in the data?\r\n",
        "\r\n"
      ]
    },
    {
      "cell_type": "code",
      "metadata": {
        "colab": {
          "base_uri": "https://localhost:8080/"
        },
        "id": "O95uYvC3MR9n",
        "outputId": "13e77eb2-5dab-427c-c0f6-6cc1e461b72a"
      },
      "source": [
        "# Spam column count values\r\n",
        "df_sms.spam.value_counts()"
      ],
      "execution_count": 23,
      "outputs": [
        {
          "output_type": "execute_result",
          "data": {
            "text/plain": [
              "0    4825\n",
              "1     747\n",
              "Name: spam, dtype: int64"
            ]
          },
          "metadata": {
            "tags": []
          },
          "execution_count": 23
        }
      ]
    },
    {
      "cell_type": "code",
      "metadata": {
        "colab": {
          "base_uri": "https://localhost:8080/",
          "height": 277
        },
        "id": "bKSIaPFlNUoC",
        "outputId": "b7f3c0fb-34e0-4c74-db64-f95d7cb3cc57"
      },
      "source": [
        "# Plt the spam classification\r\n",
        "fig = plt.figure(figsize=(5,4))\r\n",
        "fig.patch.set_facecolor('white')\r\n",
        "df_sms.spam.value_counts().plot.bar()\r\n",
        "sns.countplot(data= df_sms, x = 'spam')\r\n",
        "for d in [0, 1]:\r\n",
        "    plt.text(d, (df_sms['spam'] == d).sum(), str(round(((df_sms['spam'] == d).sum())*100/(df_sms.shape[0]), 2)), fontsize = 12)\r\n",
        "plt.show();"
      ],
      "execution_count": 24,
      "outputs": [
        {
          "output_type": "display_data",
          "data": {
            "image/png": "[encoded data removed]",
            "text/plain": [
              "<Figure size 360x288 with 1 Axes>"
            ]
          },
          "metadata": {
            "tags": []
          }
        }
      ]
    },
    {
      "cell_type": "markdown",
      "metadata": {
        "id": "NQEuWMIjPaYQ"
      },
      "source": [
        "Observations:\r\n",
        "  * 13.41% of the messages are spam and 86.59% of the messages are ham.\r\n",
        "  * Ham distributions are more than the spam, hence it is not a balanced dataset."
      ]
    },
    {
      "cell_type": "markdown",
      "metadata": {
        "id": "6SRc9ffuP8R1"
      },
      "source": [
        "<a id=section402></a>\r\n",
        "## 4.2 What is the variations in the actual messages length based on ham or spam?\r\n"
      ]
    },
    {
      "cell_type": "code",
      "metadata": {
        "colab": {
          "base_uri": "https://localhost:8080/",
          "height": 335
        },
        "id": "RDTKEVr9R3i7",
        "outputId": "54c6df8e-90f4-4888-fc22-d210cb4d5d0f"
      },
      "source": [
        "fig = plt.figure(figsize=(10,5))\r\n",
        "fig.patch.set_facecolor('white')\r\n",
        "plt.xlim(0,200)\r\n",
        "sns.distplot(df_sms.loc[df_sms[\"spam\"] == 0][\"msg_length\"], kde_kws={\"label\": \"Ham\"},bins = 100)\r\n",
        "sns.distplot(df_sms.loc[df_sms[\"spam\"] == 1][\"msg_length\"], kde_kws={\"label\": \"Spam\"},bins = 100)\r\n",
        "plt.legend()\r\n",
        "plt.show();"
      ],
      "execution_count": 25,
      "outputs": [
        {
          "output_type": "display_data",
          "data": {
            "image/png": "[encoded data removed]",
            "text/plain": [
              "<Figure size 720x360 with 1 Axes>"
            ]
          },
          "metadata": {
            "tags": []
          }
        }
      ]
    },
    {
      "cell_type": "markdown",
      "metadata": {
        "id": "Rg2DAdtlYqeN"
      },
      "source": [
        "Observations:\r\n",
        "  * Spams tend to have more lengthy messages."
      ]
    },
    {
      "cell_type": "markdown",
      "metadata": {
        "id": "cAeIQtZ5rXIK"
      },
      "source": [
        "<a id=section403></a>\r\n",
        "## 4.3 What is the variations in the processed messages length based on ham or spam?"
      ]
    },
    {
      "cell_type": "code",
      "metadata": {
        "colab": {
          "base_uri": "https://localhost:8080/",
          "height": 335
        },
        "id": "owYoXDjXrWSJ",
        "outputId": "c8c8d8ad-3d31-4cda-a242-7ee2a6c8e786"
      },
      "source": [
        "fig = plt.figure(figsize=(10,5))\r\n",
        "fig.patch.set_facecolor('white')\r\n",
        "plt.xlim(0,200)\r\n",
        "sns.distplot(df_sms.loc[df_sms[\"spam\"] == 0][\"processed_length\"], kde_kws={\"label\": \"Ham\"},bins = 100)\r\n",
        "sns.distplot(df_sms.loc[df_sms[\"spam\"] == 1][\"processed_length\"], kde_kws={\"label\": \"Spam\"},bins = 100)\r\n",
        "plt.legend()\r\n",
        "plt.show();"
      ],
      "execution_count": 26,
      "outputs": [
        {
          "output_type": "display_data",
          "data": {
            "image/png": "[encoded data removed]",
            "text/plain": [
              "<Figure size 720x360 with 1 Axes>"
            ]
          },
          "metadata": {
            "tags": []
          }
        }
      ]
    },
    {
      "cell_type": "markdown",
      "metadata": {
        "id": "yVThnLhdr04z"
      },
      "source": [
        "Observations:\r\n",
        "  * The message length distributions are overlapping for spam and ham which leaves difficulty in judging a spam or ham, hence we can use the actual message length for prediction which has discrete values that differentiates the data."
      ]
    },
    {
      "cell_type": "markdown",
      "metadata": {
        "id": "iBdz34UIbE8U"
      },
      "source": [
        "<a id=section404></a>\r\n",
        "## 4.4 What are the most common words used in ham and spam messages?"
      ]
    },
    {
      "cell_type": "code",
      "metadata": {
        "id": "W447FFilbLE6"
      },
      "source": [
        "from collections import Counter\r\n",
        "\r\n",
        "ham_comm = Counter(\" \".join(df_sms[df_sms['spam']==0][\"messages\"]).split()).most_common(20)\r\n",
        "df_ham_comm = pd.DataFrame.from_dict(ham_comm)\r\n",
        "df_ham_comm = df_ham_comm.rename(columns={0: \"ham_common\", 1 : \"count\"})\r\n",
        "spam_comm = Counter(\" \".join(df_sms[df_sms['spam']==1][\"messages\"]).split()).most_common(20)\r\n",
        "df_spam_comm = pd.DataFrame.from_dict(spam_comm)\r\n",
        "df_spam_comm = df_spam_comm.rename(columns={0: \"spam_common\", 1 : \"count\"})"
      ],
      "execution_count": 27,
      "outputs": []
    },
    {
      "cell_type": "code",
      "metadata": {
        "colab": {
          "base_uri": "https://localhost:8080/",
          "height": 106
        },
        "id": "XuP2ej8YkX8-",
        "outputId": "14fc010b-10b1-4572-eac5-bb25fd0efac2"
      },
      "source": [
        "df_ham_comm.head(2)"
      ],
      "execution_count": 28,
      "outputs": [
        {
          "output_type": "execute_result",
          "data": {
            "text/html": [
              "<div>\n",
              "<style scoped>\n",
              "    .dataframe tbody tr th:only-of-type {\n",
              "        vertical-align: middle;\n",
              "    }\n",
              "\n",
              "    .dataframe tbody tr th {\n",
              "        vertical-align: top;\n",
              "    }\n",
              "\n",
              "    .dataframe thead th {\n",
              "        text-align: right;\n",
              "    }\n",
              "</style>\n",
              "<table border=\"1\" class=\"dataframe\">\n",
              "  <thead>\n",
              "    <tr style=\"text-align: right;\">\n",
              "      <th></th>\n",
              "      <th>ham_common</th>\n",
              "      <th>count</th>\n",
              "    </tr>\n",
              "  </thead>\n",
              "  <tbody>\n",
              "    <tr>\n",
              "      <th>0</th>\n",
              "      <td>to</td>\n",
              "      <td>1530</td>\n",
              "    </tr>\n",
              "    <tr>\n",
              "      <th>1</th>\n",
              "      <td>you</td>\n",
              "      <td>1458</td>\n",
              "    </tr>\n",
              "  </tbody>\n",
              "</table>\n",
              "</div>"
            ],
            "text/plain": [
              "  ham_common  count\n",
              "0         to   1530\n",
              "1        you   1458"
            ]
          },
          "metadata": {
            "tags": []
          },
          "execution_count": 28
        }
      ]
    },
    {
      "cell_type": "code",
      "metadata": {
        "colab": {
          "base_uri": "https://localhost:8080/",
          "height": 350
        },
        "id": "GOjcAQkZcEUD",
        "outputId": "e96dc97e-b7f0-4833-d64a-4037e16d7d78"
      },
      "source": [
        "fig = plt.figure(figsize=(7,5))\r\n",
        "fig.patch.set_facecolor('white')\r\n",
        "sns.barplot(data = df_ham_comm,x= 'ham_common', y = 'count' )\r\n",
        "plt.xticks(np.arange(20), df_ham_comm[\"ham_common\"])\r\n",
        "plt.title('More frequent words in ham messages')\r\n",
        "plt.xlabel('Words')\r\n",
        "plt.ylabel('frequency')\r\n",
        "plt.show();"
      ],
      "execution_count": 29,
      "outputs": [
        {
          "output_type": "display_data",
          "data": {
            "image/png": "[encoded data removed]",
            "text/plain": [
              "<Figure size 504x360 with 1 Axes>"
            ]
          },
          "metadata": {
            "tags": []
          }
        }
      ]
    },
    {
      "cell_type": "code",
      "metadata": {
        "colab": {
          "base_uri": "https://localhost:8080/",
          "height": 350
        },
        "id": "H2w3jN-gcwk9",
        "outputId": "69322b11-fdf0-496e-e673-4b0b81b4e608"
      },
      "source": [
        "fig = plt.figure(figsize=(7,5))\r\n",
        "fig.patch.set_facecolor('white')\r\n",
        "sns.barplot(data = df_spam_comm,x= 'spam_common', y = 'count' )\r\n",
        "plt.xticks(np.arange(20), df_spam_comm[\"spam_common\"])\r\n",
        "plt.title('More frequent words in spam messages')\r\n",
        "plt.xlabel('Words')\r\n",
        "plt.ylabel('frequency')\r\n",
        "plt.show();"
      ],
      "execution_count": 30,
      "outputs": [
        {
          "output_type": "display_data",
          "data": {
            "image/png": "[encoded data removed]",
            "text/plain": [
              "<Figure size 504x360 with 1 Axes>"
            ]
          },
          "metadata": {
            "tags": []
          }
        }
      ]
    },
    {
      "cell_type": "markdown",
      "metadata": {
        "id": "no_MiGaulMl5"
      },
      "source": [
        "Observations:\r\n",
        "* We see that most of the common words are stopwords which does not add much value to the information."
      ]
    },
    {
      "cell_type": "markdown",
      "metadata": {
        "id": "3tRcs5F49O4f"
      },
      "source": [
        "<a id='section5'></a> \r\n",
        "# 5 Generating Features and Scaling of data:\r\n"
      ]
    },
    {
      "cell_type": "code",
      "metadata": {
        "colab": {
          "base_uri": "https://localhost:8080/",
          "height": 630
        },
        "id": "gG8HLjj6pEFj",
        "outputId": "2e9e7ccf-4e75-40d4-ae03-2528a0105246"
      },
      "source": [
        "df_sms_processed = df_sms.copy()\r\n",
        "df_sms_processed.drop(['messages', 'processed_length'], axis = 1, inplace = True)\r\n",
        "df_sms_processed.head(5)\r\n",
        "df_sms_processed.info()\r\n",
        "df_sms_processed.describe()"
      ],
      "execution_count": 31,
      "outputs": [
        {
          "output_type": "execute_result",
          "data": {
            "text/html": [
              "<div>\n",
              "<style scoped>\n",
              "    .dataframe tbody tr th:only-of-type {\n",
              "        vertical-align: middle;\n",
              "    }\n",
              "\n",
              "    .dataframe tbody tr th {\n",
              "        vertical-align: top;\n",
              "    }\n",
              "\n",
              "    .dataframe thead th {\n",
              "        text-align: right;\n",
              "    }\n",
              "</style>\n",
              "<table border=\"1\" class=\"dataframe\">\n",
              "  <thead>\n",
              "    <tr style=\"text-align: right;\">\n",
              "      <th></th>\n",
              "      <th>spam</th>\n",
              "      <th>msg_length</th>\n",
              "      <th>processed_msg</th>\n",
              "    </tr>\n",
              "  </thead>\n",
              "  <tbody>\n",
              "    <tr>\n",
              "      <th>0</th>\n",
              "      <td>0</td>\n",
              "      <td>111</td>\n",
              "      <td>go jurong point crazi avail bugi n great world...</td>\n",
              "    </tr>\n",
              "    <tr>\n",
              "      <th>1</th>\n",
              "      <td>0</td>\n",
              "      <td>29</td>\n",
              "      <td>ok lar joke wif u oni</td>\n",
              "    </tr>\n",
              "    <tr>\n",
              "      <th>2</th>\n",
              "      <td>1</td>\n",
              "      <td>155</td>\n",
              "      <td>free entri number wkli comp win fa cup final t...</td>\n",
              "    </tr>\n",
              "    <tr>\n",
              "      <th>3</th>\n",
              "      <td>0</td>\n",
              "      <td>49</td>\n",
              "      <td>u dun say earli hor u c alreadi say</td>\n",
              "    </tr>\n",
              "    <tr>\n",
              "      <th>4</th>\n",
              "      <td>0</td>\n",
              "      <td>61</td>\n",
              "      <td>nah dont think goe usf live around though</td>\n",
              "    </tr>\n",
              "  </tbody>\n",
              "</table>\n",
              "</div>"
            ],
            "text/plain": [
              "   spam  msg_length                                      processed_msg\n",
              "0     0         111  go jurong point crazi avail bugi n great world...\n",
              "1     0          29                              ok lar joke wif u oni\n",
              "2     1         155  free entri number wkli comp win fa cup final t...\n",
              "3     0          49                u dun say earli hor u c alreadi say\n",
              "4     0          61          nah dont think goe usf live around though"
            ]
          },
          "metadata": {
            "tags": []
          },
          "execution_count": 31
        },
        {
          "output_type": "stream",
          "text": [
            "<class 'pandas.core.frame.DataFrame'>\n",
            "RangeIndex: 5572 entries, 0 to 5571\n",
            "Data columns (total 3 columns):\n",
            " #   Column         Non-Null Count  Dtype \n",
            "---  ------         --------------  ----- \n",
            " 0   spam           5572 non-null   int64 \n",
            " 1   msg_length     5572 non-null   int64 \n",
            " 2   processed_msg  5572 non-null   object\n",
            "dtypes: int64(2), object(1)\n",
            "memory usage: 130.7+ KB\n"
          ],
          "name": "stdout"
        },
        {
          "output_type": "execute_result",
          "data": {
            "text/html": [
              "<div>\n",
              "<style scoped>\n",
              "    .dataframe tbody tr th:only-of-type {\n",
              "        vertical-align: middle;\n",
              "    }\n",
              "\n",
              "    .dataframe tbody tr th {\n",
              "        vertical-align: top;\n",
              "    }\n",
              "\n",
              "    .dataframe thead th {\n",
              "        text-align: right;\n",
              "    }\n",
              "</style>\n",
              "<table border=\"1\" class=\"dataframe\">\n",
              "  <thead>\n",
              "    <tr style=\"text-align: right;\">\n",
              "      <th></th>\n",
              "      <th>spam</th>\n",
              "      <th>msg_length</th>\n",
              "    </tr>\n",
              "  </thead>\n",
              "  <tbody>\n",
              "    <tr>\n",
              "      <th>count</th>\n",
              "      <td>5572.000000</td>\n",
              "      <td>5572.000000</td>\n",
              "    </tr>\n",
              "    <tr>\n",
              "      <th>mean</th>\n",
              "      <td>0.134063</td>\n",
              "      <td>80.118808</td>\n",
              "    </tr>\n",
              "    <tr>\n",
              "      <th>std</th>\n",
              "      <td>0.340751</td>\n",
              "      <td>59.690841</td>\n",
              "    </tr>\n",
              "    <tr>\n",
              "      <th>min</th>\n",
              "      <td>0.000000</td>\n",
              "      <td>2.000000</td>\n",
              "    </tr>\n",
              "    <tr>\n",
              "      <th>25%</th>\n",
              "      <td>0.000000</td>\n",
              "      <td>36.000000</td>\n",
              "    </tr>\n",
              "    <tr>\n",
              "      <th>50%</th>\n",
              "      <td>0.000000</td>\n",
              "      <td>61.000000</td>\n",
              "    </tr>\n",
              "    <tr>\n",
              "      <th>75%</th>\n",
              "      <td>0.000000</td>\n",
              "      <td>121.000000</td>\n",
              "    </tr>\n",
              "    <tr>\n",
              "      <th>max</th>\n",
              "      <td>1.000000</td>\n",
              "      <td>910.000000</td>\n",
              "    </tr>\n",
              "  </tbody>\n",
              "</table>\n",
              "</div>"
            ],
            "text/plain": [
              "              spam   msg_length\n",
              "count  5572.000000  5572.000000\n",
              "mean      0.134063    80.118808\n",
              "std       0.340751    59.690841\n",
              "min       0.000000     2.000000\n",
              "25%       0.000000    36.000000\n",
              "50%       0.000000    61.000000\n",
              "75%       0.000000   121.000000\n",
              "max       1.000000   910.000000"
            ]
          },
          "metadata": {
            "tags": []
          },
          "execution_count": 31
        }
      ]
    },
    {
      "cell_type": "markdown",
      "metadata": {
        "id": "ix_CSIPptyc0"
      },
      "source": [
        "Decisions:\r\n",
        "  * The actual message length should be scaled since its values are ranging from 2 - 910 while the other feature values are 0 and 1.\r\n",
        "  * We can use Bag of words approach to extract features from the test data, wherein the entire sentence will be broken into individual words and the occurence of each word is represented as a feature which can be used for classification."
      ]
    },
    {
      "cell_type": "code",
      "metadata": {
        "colab": {
          "base_uri": "https://localhost:8080/"
        },
        "id": "vVl41nz1_W1l",
        "outputId": "a15f2e87-0f9f-485d-e7a1-4c5a08822cf1"
      },
      "source": [
        "# Separate the processed messages which needs to be vectorized\r\n",
        "processed_msg = df_sms_processed.processed_msg\r\n",
        "print(\"Processed message:\\n\",processed_msg.head(2))\r\n",
        "# Separate the target variable which needs to be predicted\r\n",
        "y = df_sms_processed.spam\r\n",
        "print(\"Target value:\\n\", y.head(2))"
      ],
      "execution_count": 32,
      "outputs": [
        {
          "output_type": "stream",
          "text": [
            "Processed message:\n",
            " 0    go jurong point crazi avail bugi n great world...\n",
            "1                                ok lar joke wif u oni\n",
            "Name: processed_msg, dtype: object\n",
            "Target value:\n",
            " 0    0\n",
            "1    0\n",
            "Name: spam, dtype: int64\n"
          ],
          "name": "stdout"
        }
      ]
    },
    {
      "cell_type": "code",
      "metadata": {
        "colab": {
          "base_uri": "https://localhost:8080/",
          "height": 202
        },
        "id": "bYsWCFIl8dHu",
        "outputId": "9a2791b2-d63b-42e2-bbe0-1eb3d989fc8e"
      },
      "source": [
        "from sklearn.feature_extraction.text import CountVectorizer\r\n",
        "cv = CountVectorizer(max_features=2000) # Extracting top 2000 text only as features \r\n",
        "X = pd.DataFrame(cv.fit_transform(processed_msg).toarray())\r\n",
        "X.shape\r\n",
        "X.head(3)"
      ],
      "execution_count": 33,
      "outputs": [
        {
          "output_type": "execute_result",
          "data": {
            "text/plain": [
              "(5572, 2000)"
            ]
          },
          "metadata": {
            "tags": []
          },
          "execution_count": 33
        },
        {
          "output_type": "execute_result",
          "data": {
            "text/html": [
              "<div>\n",
              "<style scoped>\n",
              "    .dataframe tbody tr th:only-of-type {\n",
              "        vertical-align: middle;\n",
              "    }\n",
              "\n",
              "    .dataframe tbody tr th {\n",
              "        vertical-align: top;\n",
              "    }\n",
              "\n",
              "    .dataframe thead th {\n",
              "        text-align: right;\n",
              "    }\n",
              "</style>\n",
              "<table border=\"1\" class=\"dataframe\">\n",
              "  <thead>\n",
              "    <tr style=\"text-align: right;\">\n",
              "      <th></th>\n",
              "      <th>0</th>\n",
              "      <th>1</th>\n",
              "      <th>2</th>\n",
              "      <th>3</th>\n",
              "      <th>4</th>\n",
              "      <th>5</th>\n",
              "      <th>6</th>\n",
              "      <th>7</th>\n",
              "      <th>8</th>\n",
              "      <th>9</th>\n",
              "      <th>10</th>\n",
              "      <th>11</th>\n",
              "      <th>12</th>\n",
              "      <th>13</th>\n",
              "      <th>14</th>\n",
              "      <th>15</th>\n",
              "      <th>16</th>\n",
              "      <th>17</th>\n",
              "      <th>18</th>\n",
              "      <th>19</th>\n",
              "      <th>20</th>\n",
              "      <th>21</th>\n",
              "      <th>22</th>\n",
              "      <th>23</th>\n",
              "      <th>24</th>\n",
              "      <th>25</th>\n",
              "      <th>26</th>\n",
              "      <th>27</th>\n",
              "      <th>28</th>\n",
              "      <th>29</th>\n",
              "      <th>30</th>\n",
              "      <th>31</th>\n",
              "      <th>32</th>\n",
              "      <th>33</th>\n",
              "      <th>34</th>\n",
              "      <th>35</th>\n",
              "      <th>36</th>\n",
              "      <th>37</th>\n",
              "      <th>38</th>\n",
              "      <th>39</th>\n",
              "      <th>40</th>\n",
              "      <th>41</th>\n",
              "      <th>42</th>\n",
              "      <th>43</th>\n",
              "      <th>44</th>\n",
              "      <th>45</th>\n",
              "      <th>46</th>\n",
              "      <th>47</th>\n",
              "      <th>48</th>\n",
              "      <th>49</th>\n",
              "      <th>...</th>\n",
              "      <th>1950</th>\n",
              "      <th>1951</th>\n",
              "      <th>1952</th>\n",
              "      <th>1953</th>\n",
              "      <th>1954</th>\n",
              "      <th>1955</th>\n",
              "      <th>1956</th>\n",
              "      <th>1957</th>\n",
              "      <th>1958</th>\n",
              "      <th>1959</th>\n",
              "      <th>1960</th>\n",
              "      <th>1961</th>\n",
              "      <th>1962</th>\n",
              "      <th>1963</th>\n",
              "      <th>1964</th>\n",
              "      <th>1965</th>\n",
              "      <th>1966</th>\n",
              "      <th>1967</th>\n",
              "      <th>1968</th>\n",
              "      <th>1969</th>\n",
              "      <th>1970</th>\n",
              "      <th>1971</th>\n",
              "      <th>1972</th>\n",
              "      <th>1973</th>\n",
              "      <th>1974</th>\n",
              "      <th>1975</th>\n",
              "      <th>1976</th>\n",
              "      <th>1977</th>\n",
              "      <th>1978</th>\n",
              "      <th>1979</th>\n",
              "      <th>1980</th>\n",
              "      <th>1981</th>\n",
              "      <th>1982</th>\n",
              "      <th>1983</th>\n",
              "      <th>1984</th>\n",
              "      <th>1985</th>\n",
              "      <th>1986</th>\n",
              "      <th>1987</th>\n",
              "      <th>1988</th>\n",
              "      <th>1989</th>\n",
              "      <th>1990</th>\n",
              "      <th>1991</th>\n",
              "      <th>1992</th>\n",
              "      <th>1993</th>\n",
              "      <th>1994</th>\n",
              "      <th>1995</th>\n",
              "      <th>1996</th>\n",
              "      <th>1997</th>\n",
              "      <th>1998</th>\n",
              "      <th>1999</th>\n",
              "    </tr>\n",
              "  </thead>\n",
              "  <tbody>\n",
              "    <tr>\n",
              "      <th>0</th>\n",
              "      <td>0</td>\n",
              "      <td>0</td>\n",
              "      <td>0</td>\n",
              "      <td>0</td>\n",
              "      <td>0</td>\n",
              "      <td>0</td>\n",
              "      <td>0</td>\n",
              "      <td>0</td>\n",
              "      <td>0</td>\n",
              "      <td>0</td>\n",
              "      <td>0</td>\n",
              "      <td>0</td>\n",
              "      <td>0</td>\n",
              "      <td>0</td>\n",
              "      <td>0</td>\n",
              "      <td>0</td>\n",
              "      <td>0</td>\n",
              "      <td>0</td>\n",
              "      <td>0</td>\n",
              "      <td>0</td>\n",
              "      <td>0</td>\n",
              "      <td>0</td>\n",
              "      <td>0</td>\n",
              "      <td>0</td>\n",
              "      <td>0</td>\n",
              "      <td>0</td>\n",
              "      <td>0</td>\n",
              "      <td>0</td>\n",
              "      <td>0</td>\n",
              "      <td>0</td>\n",
              "      <td>0</td>\n",
              "      <td>0</td>\n",
              "      <td>0</td>\n",
              "      <td>0</td>\n",
              "      <td>0</td>\n",
              "      <td>0</td>\n",
              "      <td>0</td>\n",
              "      <td>0</td>\n",
              "      <td>0</td>\n",
              "      <td>0</td>\n",
              "      <td>0</td>\n",
              "      <td>0</td>\n",
              "      <td>0</td>\n",
              "      <td>0</td>\n",
              "      <td>0</td>\n",
              "      <td>0</td>\n",
              "      <td>0</td>\n",
              "      <td>0</td>\n",
              "      <td>0</td>\n",
              "      <td>0</td>\n",
              "      <td>...</td>\n",
              "      <td>0</td>\n",
              "      <td>0</td>\n",
              "      <td>0</td>\n",
              "      <td>0</td>\n",
              "      <td>0</td>\n",
              "      <td>0</td>\n",
              "      <td>0</td>\n",
              "      <td>0</td>\n",
              "      <td>0</td>\n",
              "      <td>0</td>\n",
              "      <td>0</td>\n",
              "      <td>0</td>\n",
              "      <td>0</td>\n",
              "      <td>0</td>\n",
              "      <td>0</td>\n",
              "      <td>0</td>\n",
              "      <td>0</td>\n",
              "      <td>0</td>\n",
              "      <td>0</td>\n",
              "      <td>0</td>\n",
              "      <td>0</td>\n",
              "      <td>0</td>\n",
              "      <td>0</td>\n",
              "      <td>0</td>\n",
              "      <td>0</td>\n",
              "      <td>0</td>\n",
              "      <td>0</td>\n",
              "      <td>0</td>\n",
              "      <td>0</td>\n",
              "      <td>0</td>\n",
              "      <td>0</td>\n",
              "      <td>0</td>\n",
              "      <td>0</td>\n",
              "      <td>0</td>\n",
              "      <td>0</td>\n",
              "      <td>0</td>\n",
              "      <td>0</td>\n",
              "      <td>0</td>\n",
              "      <td>0</td>\n",
              "      <td>0</td>\n",
              "      <td>0</td>\n",
              "      <td>0</td>\n",
              "      <td>0</td>\n",
              "      <td>0</td>\n",
              "      <td>0</td>\n",
              "      <td>0</td>\n",
              "      <td>0</td>\n",
              "      <td>0</td>\n",
              "      <td>0</td>\n",
              "      <td>0</td>\n",
              "    </tr>\n",
              "    <tr>\n",
              "      <th>1</th>\n",
              "      <td>0</td>\n",
              "      <td>0</td>\n",
              "      <td>0</td>\n",
              "      <td>0</td>\n",
              "      <td>0</td>\n",
              "      <td>0</td>\n",
              "      <td>0</td>\n",
              "      <td>0</td>\n",
              "      <td>0</td>\n",
              "      <td>0</td>\n",
              "      <td>0</td>\n",
              "      <td>0</td>\n",
              "      <td>0</td>\n",
              "      <td>0</td>\n",
              "      <td>0</td>\n",
              "      <td>0</td>\n",
              "      <td>0</td>\n",
              "      <td>0</td>\n",
              "      <td>0</td>\n",
              "      <td>0</td>\n",
              "      <td>0</td>\n",
              "      <td>0</td>\n",
              "      <td>0</td>\n",
              "      <td>0</td>\n",
              "      <td>0</td>\n",
              "      <td>0</td>\n",
              "      <td>0</td>\n",
              "      <td>0</td>\n",
              "      <td>0</td>\n",
              "      <td>0</td>\n",
              "      <td>0</td>\n",
              "      <td>0</td>\n",
              "      <td>0</td>\n",
              "      <td>0</td>\n",
              "      <td>0</td>\n",
              "      <td>0</td>\n",
              "      <td>0</td>\n",
              "      <td>0</td>\n",
              "      <td>0</td>\n",
              "      <td>0</td>\n",
              "      <td>0</td>\n",
              "      <td>0</td>\n",
              "      <td>0</td>\n",
              "      <td>0</td>\n",
              "      <td>0</td>\n",
              "      <td>0</td>\n",
              "      <td>0</td>\n",
              "      <td>0</td>\n",
              "      <td>0</td>\n",
              "      <td>0</td>\n",
              "      <td>...</td>\n",
              "      <td>0</td>\n",
              "      <td>0</td>\n",
              "      <td>0</td>\n",
              "      <td>0</td>\n",
              "      <td>0</td>\n",
              "      <td>0</td>\n",
              "      <td>0</td>\n",
              "      <td>0</td>\n",
              "      <td>0</td>\n",
              "      <td>0</td>\n",
              "      <td>0</td>\n",
              "      <td>0</td>\n",
              "      <td>0</td>\n",
              "      <td>0</td>\n",
              "      <td>0</td>\n",
              "      <td>0</td>\n",
              "      <td>0</td>\n",
              "      <td>0</td>\n",
              "      <td>0</td>\n",
              "      <td>0</td>\n",
              "      <td>0</td>\n",
              "      <td>0</td>\n",
              "      <td>0</td>\n",
              "      <td>0</td>\n",
              "      <td>0</td>\n",
              "      <td>0</td>\n",
              "      <td>0</td>\n",
              "      <td>0</td>\n",
              "      <td>0</td>\n",
              "      <td>0</td>\n",
              "      <td>0</td>\n",
              "      <td>0</td>\n",
              "      <td>0</td>\n",
              "      <td>0</td>\n",
              "      <td>0</td>\n",
              "      <td>0</td>\n",
              "      <td>0</td>\n",
              "      <td>0</td>\n",
              "      <td>0</td>\n",
              "      <td>0</td>\n",
              "      <td>0</td>\n",
              "      <td>0</td>\n",
              "      <td>0</td>\n",
              "      <td>0</td>\n",
              "      <td>0</td>\n",
              "      <td>0</td>\n",
              "      <td>0</td>\n",
              "      <td>0</td>\n",
              "      <td>0</td>\n",
              "      <td>0</td>\n",
              "    </tr>\n",
              "    <tr>\n",
              "      <th>2</th>\n",
              "      <td>0</td>\n",
              "      <td>0</td>\n",
              "      <td>0</td>\n",
              "      <td>0</td>\n",
              "      <td>0</td>\n",
              "      <td>0</td>\n",
              "      <td>0</td>\n",
              "      <td>0</td>\n",
              "      <td>0</td>\n",
              "      <td>0</td>\n",
              "      <td>0</td>\n",
              "      <td>0</td>\n",
              "      <td>0</td>\n",
              "      <td>0</td>\n",
              "      <td>0</td>\n",
              "      <td>0</td>\n",
              "      <td>0</td>\n",
              "      <td>0</td>\n",
              "      <td>0</td>\n",
              "      <td>0</td>\n",
              "      <td>0</td>\n",
              "      <td>0</td>\n",
              "      <td>0</td>\n",
              "      <td>0</td>\n",
              "      <td>0</td>\n",
              "      <td>0</td>\n",
              "      <td>0</td>\n",
              "      <td>0</td>\n",
              "      <td>0</td>\n",
              "      <td>0</td>\n",
              "      <td>0</td>\n",
              "      <td>0</td>\n",
              "      <td>0</td>\n",
              "      <td>0</td>\n",
              "      <td>0</td>\n",
              "      <td>0</td>\n",
              "      <td>0</td>\n",
              "      <td>0</td>\n",
              "      <td>0</td>\n",
              "      <td>0</td>\n",
              "      <td>0</td>\n",
              "      <td>0</td>\n",
              "      <td>0</td>\n",
              "      <td>0</td>\n",
              "      <td>0</td>\n",
              "      <td>0</td>\n",
              "      <td>0</td>\n",
              "      <td>0</td>\n",
              "      <td>0</td>\n",
              "      <td>0</td>\n",
              "      <td>...</td>\n",
              "      <td>0</td>\n",
              "      <td>0</td>\n",
              "      <td>0</td>\n",
              "      <td>0</td>\n",
              "      <td>0</td>\n",
              "      <td>0</td>\n",
              "      <td>0</td>\n",
              "      <td>0</td>\n",
              "      <td>0</td>\n",
              "      <td>0</td>\n",
              "      <td>0</td>\n",
              "      <td>0</td>\n",
              "      <td>0</td>\n",
              "      <td>0</td>\n",
              "      <td>0</td>\n",
              "      <td>0</td>\n",
              "      <td>0</td>\n",
              "      <td>0</td>\n",
              "      <td>0</td>\n",
              "      <td>0</td>\n",
              "      <td>0</td>\n",
              "      <td>0</td>\n",
              "      <td>0</td>\n",
              "      <td>0</td>\n",
              "      <td>0</td>\n",
              "      <td>0</td>\n",
              "      <td>0</td>\n",
              "      <td>0</td>\n",
              "      <td>0</td>\n",
              "      <td>0</td>\n",
              "      <td>0</td>\n",
              "      <td>0</td>\n",
              "      <td>0</td>\n",
              "      <td>0</td>\n",
              "      <td>0</td>\n",
              "      <td>0</td>\n",
              "      <td>0</td>\n",
              "      <td>0</td>\n",
              "      <td>0</td>\n",
              "      <td>0</td>\n",
              "      <td>0</td>\n",
              "      <td>0</td>\n",
              "      <td>0</td>\n",
              "      <td>0</td>\n",
              "      <td>0</td>\n",
              "      <td>0</td>\n",
              "      <td>0</td>\n",
              "      <td>0</td>\n",
              "      <td>0</td>\n",
              "      <td>0</td>\n",
              "    </tr>\n",
              "  </tbody>\n",
              "</table>\n",
              "<p>3 rows × 2000 columns</p>\n",
              "</div>"
            ],
            "text/plain": [
              "   0     1     2     3     4     5     6     7     8     9     10    11    \\\n",
              "0     0     0     0     0     0     0     0     0     0     0     0     0   \n",
              "1     0     0     0     0     0     0     0     0     0     0     0     0   \n",
              "2     0     0     0     0     0     0     0     0     0     0     0     0   \n",
              "\n",
              "   12    13    14    15    16    17    18    19    20    21    22    23    \\\n",
              "0     0     0     0     0     0     0     0     0     0     0     0     0   \n",
              "1     0     0     0     0     0     0     0     0     0     0     0     0   \n",
              "2     0     0     0     0     0     0     0     0     0     0     0     0   \n",
              "\n",
              "   24    25    26    27    28    29    30    31    32    33    34    35    \\\n",
              "0     0     0     0     0     0     0     0     0     0     0     0     0   \n",
              "1     0     0     0     0     0     0     0     0     0     0     0     0   \n",
              "2     0     0     0     0     0     0     0     0     0     0     0     0   \n",
              "\n",
              "   36    37    38    39    40    41    42    43    44    45    46    47    \\\n",
              "0     0     0     0     0     0     0     0     0     0     0     0     0   \n",
              "1     0     0     0     0     0     0     0     0     0     0     0     0   \n",
              "2     0     0     0     0     0     0     0     0     0     0     0     0   \n",
              "\n",
              "   48    49    ...  1950  1951  1952  1953  1954  1955  1956  1957  1958  \\\n",
              "0     0     0  ...     0     0     0     0     0     0     0     0     0   \n",
              "1     0     0  ...     0     0     0     0     0     0     0     0     0   \n",
              "2     0     0  ...     0     0     0     0     0     0     0     0     0   \n",
              "\n",
              "   1959  1960  1961  1962  1963  1964  1965  1966  1967  1968  1969  1970  \\\n",
              "0     0     0     0     0     0     0     0     0     0     0     0     0   \n",
              "1     0     0     0     0     0     0     0     0     0     0     0     0   \n",
              "2     0     0     0     0     0     0     0     0     0     0     0     0   \n",
              "\n",
              "   1971  1972  1973  1974  1975  1976  1977  1978  1979  1980  1981  1982  \\\n",
              "0     0     0     0     0     0     0     0     0     0     0     0     0   \n",
              "1     0     0     0     0     0     0     0     0     0     0     0     0   \n",
              "2     0     0     0     0     0     0     0     0     0     0     0     0   \n",
              "\n",
              "   1983  1984  1985  1986  1987  1988  1989  1990  1991  1992  1993  1994  \\\n",
              "0     0     0     0     0     0     0     0     0     0     0     0     0   \n",
              "1     0     0     0     0     0     0     0     0     0     0     0     0   \n",
              "2     0     0     0     0     0     0     0     0     0     0     0     0   \n",
              "\n",
              "   1995  1996  1997  1998  1999  \n",
              "0     0     0     0     0     0  \n",
              "1     0     0     0     0     0  \n",
              "2     0     0     0     0     0  \n",
              "\n",
              "[3 rows x 2000 columns]"
            ]
          },
          "metadata": {
            "tags": []
          },
          "execution_count": 33
        }
      ]
    },
    {
      "cell_type": "code",
      "metadata": {
        "colab": {
          "base_uri": "https://localhost:8080/",
          "height": 373
        },
        "id": "9pzPMbaivFo4",
        "outputId": "7a44540f-9d69-4b3a-8b8e-be500439b49b"
      },
      "source": [
        "# Scaling of the message length column:\r\n",
        "from sklearn.preprocessing import MinMaxScaler\r\n",
        "MinMaxScaler = MinMaxScaler(feature_range = (0, 1))\r\n",
        "df_sms_processed['scaled_msg_length'] = MinMaxScaler.fit_transform(df_sms_processed[['msg_length']])\r\n",
        "df_sms_processed.describe(include='all')"
      ],
      "execution_count": 34,
      "outputs": [
        {
          "output_type": "execute_result",
          "data": {
            "text/html": [
              "<div>\n",
              "<style scoped>\n",
              "    .dataframe tbody tr th:only-of-type {\n",
              "        vertical-align: middle;\n",
              "    }\n",
              "\n",
              "    .dataframe tbody tr th {\n",
              "        vertical-align: top;\n",
              "    }\n",
              "\n",
              "    .dataframe thead th {\n",
              "        text-align: right;\n",
              "    }\n",
              "</style>\n",
              "<table border=\"1\" class=\"dataframe\">\n",
              "  <thead>\n",
              "    <tr style=\"text-align: right;\">\n",
              "      <th></th>\n",
              "      <th>spam</th>\n",
              "      <th>msg_length</th>\n",
              "      <th>processed_msg</th>\n",
              "      <th>scaled_msg_length</th>\n",
              "    </tr>\n",
              "  </thead>\n",
              "  <tbody>\n",
              "    <tr>\n",
              "      <th>count</th>\n",
              "      <td>5572.000000</td>\n",
              "      <td>5572.000000</td>\n",
              "      <td>5572</td>\n",
              "      <td>5572.000000</td>\n",
              "    </tr>\n",
              "    <tr>\n",
              "      <th>unique</th>\n",
              "      <td>NaN</td>\n",
              "      <td>NaN</td>\n",
              "      <td>5083</td>\n",
              "      <td>NaN</td>\n",
              "    </tr>\n",
              "    <tr>\n",
              "      <th>top</th>\n",
              "      <td>NaN</td>\n",
              "      <td>NaN</td>\n",
              "      <td>sorri ill call later</td>\n",
              "      <td>NaN</td>\n",
              "    </tr>\n",
              "    <tr>\n",
              "      <th>freq</th>\n",
              "      <td>NaN</td>\n",
              "      <td>NaN</td>\n",
              "      <td>30</td>\n",
              "      <td>NaN</td>\n",
              "    </tr>\n",
              "    <tr>\n",
              "      <th>mean</th>\n",
              "      <td>0.134063</td>\n",
              "      <td>80.118808</td>\n",
              "      <td>NaN</td>\n",
              "      <td>0.086034</td>\n",
              "    </tr>\n",
              "    <tr>\n",
              "      <th>std</th>\n",
              "      <td>0.340751</td>\n",
              "      <td>59.690841</td>\n",
              "      <td>NaN</td>\n",
              "      <td>0.065739</td>\n",
              "    </tr>\n",
              "    <tr>\n",
              "      <th>min</th>\n",
              "      <td>0.000000</td>\n",
              "      <td>2.000000</td>\n",
              "      <td>NaN</td>\n",
              "      <td>0.000000</td>\n",
              "    </tr>\n",
              "    <tr>\n",
              "      <th>25%</th>\n",
              "      <td>0.000000</td>\n",
              "      <td>36.000000</td>\n",
              "      <td>NaN</td>\n",
              "      <td>0.037445</td>\n",
              "    </tr>\n",
              "    <tr>\n",
              "      <th>50%</th>\n",
              "      <td>0.000000</td>\n",
              "      <td>61.000000</td>\n",
              "      <td>NaN</td>\n",
              "      <td>0.064978</td>\n",
              "    </tr>\n",
              "    <tr>\n",
              "      <th>75%</th>\n",
              "      <td>0.000000</td>\n",
              "      <td>121.000000</td>\n",
              "      <td>NaN</td>\n",
              "      <td>0.131057</td>\n",
              "    </tr>\n",
              "    <tr>\n",
              "      <th>max</th>\n",
              "      <td>1.000000</td>\n",
              "      <td>910.000000</td>\n",
              "      <td>NaN</td>\n",
              "      <td>1.000000</td>\n",
              "    </tr>\n",
              "  </tbody>\n",
              "</table>\n",
              "</div>"
            ],
            "text/plain": [
              "               spam   msg_length         processed_msg  scaled_msg_length\n",
              "count   5572.000000  5572.000000                  5572        5572.000000\n",
              "unique          NaN          NaN                  5083                NaN\n",
              "top             NaN          NaN  sorri ill call later                NaN\n",
              "freq            NaN          NaN                    30                NaN\n",
              "mean       0.134063    80.118808                   NaN           0.086034\n",
              "std        0.340751    59.690841                   NaN           0.065739\n",
              "min        0.000000     2.000000                   NaN           0.000000\n",
              "25%        0.000000    36.000000                   NaN           0.037445\n",
              "50%        0.000000    61.000000                   NaN           0.064978\n",
              "75%        0.000000   121.000000                   NaN           0.131057\n",
              "max        1.000000   910.000000                   NaN           1.000000"
            ]
          },
          "metadata": {
            "tags": []
          },
          "execution_count": 34
        }
      ]
    },
    {
      "cell_type": "code",
      "metadata": {
        "colab": {
          "base_uri": "https://localhost:8080/",
          "height": 195
        },
        "id": "RxFBJPSB7UAu",
        "outputId": "ab2c762f-4058-4dca-bc77-30faf509466c"
      },
      "source": [
        "df_sms_processed.head(5)"
      ],
      "execution_count": 35,
      "outputs": [
        {
          "output_type": "execute_result",
          "data": {
            "text/html": [
              "<div>\n",
              "<style scoped>\n",
              "    .dataframe tbody tr th:only-of-type {\n",
              "        vertical-align: middle;\n",
              "    }\n",
              "\n",
              "    .dataframe tbody tr th {\n",
              "        vertical-align: top;\n",
              "    }\n",
              "\n",
              "    .dataframe thead th {\n",
              "        text-align: right;\n",
              "    }\n",
              "</style>\n",
              "<table border=\"1\" class=\"dataframe\">\n",
              "  <thead>\n",
              "    <tr style=\"text-align: right;\">\n",
              "      <th></th>\n",
              "      <th>spam</th>\n",
              "      <th>msg_length</th>\n",
              "      <th>processed_msg</th>\n",
              "      <th>scaled_msg_length</th>\n",
              "    </tr>\n",
              "  </thead>\n",
              "  <tbody>\n",
              "    <tr>\n",
              "      <th>0</th>\n",
              "      <td>0</td>\n",
              "      <td>111</td>\n",
              "      <td>go jurong point crazi avail bugi n great world...</td>\n",
              "      <td>0.120044</td>\n",
              "    </tr>\n",
              "    <tr>\n",
              "      <th>1</th>\n",
              "      <td>0</td>\n",
              "      <td>29</td>\n",
              "      <td>ok lar joke wif u oni</td>\n",
              "      <td>0.029736</td>\n",
              "    </tr>\n",
              "    <tr>\n",
              "      <th>2</th>\n",
              "      <td>1</td>\n",
              "      <td>155</td>\n",
              "      <td>free entri number wkli comp win fa cup final t...</td>\n",
              "      <td>0.168502</td>\n",
              "    </tr>\n",
              "    <tr>\n",
              "      <th>3</th>\n",
              "      <td>0</td>\n",
              "      <td>49</td>\n",
              "      <td>u dun say earli hor u c alreadi say</td>\n",
              "      <td>0.051762</td>\n",
              "    </tr>\n",
              "    <tr>\n",
              "      <th>4</th>\n",
              "      <td>0</td>\n",
              "      <td>61</td>\n",
              "      <td>nah dont think goe usf live around though</td>\n",
              "      <td>0.064978</td>\n",
              "    </tr>\n",
              "  </tbody>\n",
              "</table>\n",
              "</div>"
            ],
            "text/plain": [
              "   spam  msg_length                                      processed_msg  \\\n",
              "0     0         111  go jurong point crazi avail bugi n great world...   \n",
              "1     0          29                              ok lar joke wif u oni   \n",
              "2     1         155  free entri number wkli comp win fa cup final t...   \n",
              "3     0          49                u dun say earli hor u c alreadi say   \n",
              "4     0          61          nah dont think goe usf live around though   \n",
              "\n",
              "   scaled_msg_length  \n",
              "0           0.120044  \n",
              "1           0.029736  \n",
              "2           0.168502  \n",
              "3           0.051762  \n",
              "4           0.064978  "
            ]
          },
          "metadata": {
            "tags": []
          },
          "execution_count": 35
        }
      ]
    },
    {
      "cell_type": "code",
      "metadata": {
        "colab": {
          "base_uri": "https://localhost:8080/",
          "height": 328
        },
        "id": "_DbKVWE4QUHC",
        "outputId": "3926c12c-fc26-4335-8ad4-f69ae60654ba"
      },
      "source": [
        "X.shape\r\n",
        "X = pd.concat([X, df_sms_processed.scaled_msg_length], axis = 1)\r\n",
        "X.info()\r\n",
        "X.head(5)"
      ],
      "execution_count": 36,
      "outputs": [
        {
          "output_type": "execute_result",
          "data": {
            "text/plain": [
              "(5572, 2000)"
            ]
          },
          "metadata": {
            "tags": []
          },
          "execution_count": 36
        },
        {
          "output_type": "stream",
          "text": [
            "<class 'pandas.core.frame.DataFrame'>\n",
            "RangeIndex: 5572 entries, 0 to 5571\n",
            "Columns: 2001 entries, 0 to scaled_msg_length\n",
            "dtypes: float64(1), int64(2000)\n",
            "memory usage: 85.1 MB\n"
          ],
          "name": "stdout"
        },
        {
          "output_type": "execute_result",
          "data": {
            "text/html": [
              "<div>\n",
              "<style scoped>\n",
              "    .dataframe tbody tr th:only-of-type {\n",
              "        vertical-align: middle;\n",
              "    }\n",
              "\n",
              "    .dataframe tbody tr th {\n",
              "        vertical-align: top;\n",
              "    }\n",
              "\n",
              "    .dataframe thead th {\n",
              "        text-align: right;\n",
              "    }\n",
              "</style>\n",
              "<table border=\"1\" class=\"dataframe\">\n",
              "  <thead>\n",
              "    <tr style=\"text-align: right;\">\n",
              "      <th></th>\n",
              "      <th>0</th>\n",
              "      <th>1</th>\n",
              "      <th>2</th>\n",
              "      <th>3</th>\n",
              "      <th>4</th>\n",
              "      <th>5</th>\n",
              "      <th>6</th>\n",
              "      <th>7</th>\n",
              "      <th>8</th>\n",
              "      <th>9</th>\n",
              "      <th>10</th>\n",
              "      <th>11</th>\n",
              "      <th>12</th>\n",
              "      <th>13</th>\n",
              "      <th>14</th>\n",
              "      <th>15</th>\n",
              "      <th>16</th>\n",
              "      <th>17</th>\n",
              "      <th>18</th>\n",
              "      <th>19</th>\n",
              "      <th>20</th>\n",
              "      <th>21</th>\n",
              "      <th>22</th>\n",
              "      <th>23</th>\n",
              "      <th>24</th>\n",
              "      <th>25</th>\n",
              "      <th>26</th>\n",
              "      <th>27</th>\n",
              "      <th>28</th>\n",
              "      <th>29</th>\n",
              "      <th>30</th>\n",
              "      <th>31</th>\n",
              "      <th>32</th>\n",
              "      <th>33</th>\n",
              "      <th>34</th>\n",
              "      <th>35</th>\n",
              "      <th>36</th>\n",
              "      <th>37</th>\n",
              "      <th>38</th>\n",
              "      <th>39</th>\n",
              "      <th>40</th>\n",
              "      <th>41</th>\n",
              "      <th>42</th>\n",
              "      <th>43</th>\n",
              "      <th>44</th>\n",
              "      <th>45</th>\n",
              "      <th>46</th>\n",
              "      <th>47</th>\n",
              "      <th>48</th>\n",
              "      <th>49</th>\n",
              "      <th>...</th>\n",
              "      <th>1951</th>\n",
              "      <th>1952</th>\n",
              "      <th>1953</th>\n",
              "      <th>1954</th>\n",
              "      <th>1955</th>\n",
              "      <th>1956</th>\n",
              "      <th>1957</th>\n",
              "      <th>1958</th>\n",
              "      <th>1959</th>\n",
              "      <th>1960</th>\n",
              "      <th>1961</th>\n",
              "      <th>1962</th>\n",
              "      <th>1963</th>\n",
              "      <th>1964</th>\n",
              "      <th>1965</th>\n",
              "      <th>1966</th>\n",
              "      <th>1967</th>\n",
              "      <th>1968</th>\n",
              "      <th>1969</th>\n",
              "      <th>1970</th>\n",
              "      <th>1971</th>\n",
              "      <th>1972</th>\n",
              "      <th>1973</th>\n",
              "      <th>1974</th>\n",
              "      <th>1975</th>\n",
              "      <th>1976</th>\n",
              "      <th>1977</th>\n",
              "      <th>1978</th>\n",
              "      <th>1979</th>\n",
              "      <th>1980</th>\n",
              "      <th>1981</th>\n",
              "      <th>1982</th>\n",
              "      <th>1983</th>\n",
              "      <th>1984</th>\n",
              "      <th>1985</th>\n",
              "      <th>1986</th>\n",
              "      <th>1987</th>\n",
              "      <th>1988</th>\n",
              "      <th>1989</th>\n",
              "      <th>1990</th>\n",
              "      <th>1991</th>\n",
              "      <th>1992</th>\n",
              "      <th>1993</th>\n",
              "      <th>1994</th>\n",
              "      <th>1995</th>\n",
              "      <th>1996</th>\n",
              "      <th>1997</th>\n",
              "      <th>1998</th>\n",
              "      <th>1999</th>\n",
              "      <th>scaled_msg_length</th>\n",
              "    </tr>\n",
              "  </thead>\n",
              "  <tbody>\n",
              "    <tr>\n",
              "      <th>0</th>\n",
              "      <td>0</td>\n",
              "      <td>0</td>\n",
              "      <td>0</td>\n",
              "      <td>0</td>\n",
              "      <td>0</td>\n",
              "      <td>0</td>\n",
              "      <td>0</td>\n",
              "      <td>0</td>\n",
              "      <td>0</td>\n",
              "      <td>0</td>\n",
              "      <td>0</td>\n",
              "      <td>0</td>\n",
              "      <td>0</td>\n",
              "      <td>0</td>\n",
              "      <td>0</td>\n",
              "      <td>0</td>\n",
              "      <td>0</td>\n",
              "      <td>0</td>\n",
              "      <td>0</td>\n",
              "      <td>0</td>\n",
              "      <td>0</td>\n",
              "      <td>0</td>\n",
              "      <td>0</td>\n",
              "      <td>0</td>\n",
              "      <td>0</td>\n",
              "      <td>0</td>\n",
              "      <td>0</td>\n",
              "      <td>0</td>\n",
              "      <td>0</td>\n",
              "      <td>0</td>\n",
              "      <td>0</td>\n",
              "      <td>0</td>\n",
              "      <td>0</td>\n",
              "      <td>0</td>\n",
              "      <td>0</td>\n",
              "      <td>0</td>\n",
              "      <td>0</td>\n",
              "      <td>0</td>\n",
              "      <td>0</td>\n",
              "      <td>0</td>\n",
              "      <td>0</td>\n",
              "      <td>0</td>\n",
              "      <td>0</td>\n",
              "      <td>0</td>\n",
              "      <td>0</td>\n",
              "      <td>0</td>\n",
              "      <td>0</td>\n",
              "      <td>0</td>\n",
              "      <td>0</td>\n",
              "      <td>0</td>\n",
              "      <td>...</td>\n",
              "      <td>0</td>\n",
              "      <td>0</td>\n",
              "      <td>0</td>\n",
              "      <td>0</td>\n",
              "      <td>0</td>\n",
              "      <td>0</td>\n",
              "      <td>0</td>\n",
              "      <td>0</td>\n",
              "      <td>0</td>\n",
              "      <td>0</td>\n",
              "      <td>0</td>\n",
              "      <td>0</td>\n",
              "      <td>0</td>\n",
              "      <td>0</td>\n",
              "      <td>0</td>\n",
              "      <td>0</td>\n",
              "      <td>0</td>\n",
              "      <td>0</td>\n",
              "      <td>0</td>\n",
              "      <td>0</td>\n",
              "      <td>0</td>\n",
              "      <td>0</td>\n",
              "      <td>0</td>\n",
              "      <td>0</td>\n",
              "      <td>0</td>\n",
              "      <td>0</td>\n",
              "      <td>0</td>\n",
              "      <td>0</td>\n",
              "      <td>0</td>\n",
              "      <td>0</td>\n",
              "      <td>0</td>\n",
              "      <td>0</td>\n",
              "      <td>0</td>\n",
              "      <td>0</td>\n",
              "      <td>0</td>\n",
              "      <td>0</td>\n",
              "      <td>0</td>\n",
              "      <td>0</td>\n",
              "      <td>0</td>\n",
              "      <td>0</td>\n",
              "      <td>0</td>\n",
              "      <td>0</td>\n",
              "      <td>0</td>\n",
              "      <td>0</td>\n",
              "      <td>0</td>\n",
              "      <td>0</td>\n",
              "      <td>0</td>\n",
              "      <td>0</td>\n",
              "      <td>0</td>\n",
              "      <td>0.120044</td>\n",
              "    </tr>\n",
              "    <tr>\n",
              "      <th>1</th>\n",
              "      <td>0</td>\n",
              "      <td>0</td>\n",
              "      <td>0</td>\n",
              "      <td>0</td>\n",
              "      <td>0</td>\n",
              "      <td>0</td>\n",
              "      <td>0</td>\n",
              "      <td>0</td>\n",
              "      <td>0</td>\n",
              "      <td>0</td>\n",
              "      <td>0</td>\n",
              "      <td>0</td>\n",
              "      <td>0</td>\n",
              "      <td>0</td>\n",
              "      <td>0</td>\n",
              "      <td>0</td>\n",
              "      <td>0</td>\n",
              "      <td>0</td>\n",
              "      <td>0</td>\n",
              "      <td>0</td>\n",
              "      <td>0</td>\n",
              "      <td>0</td>\n",
              "      <td>0</td>\n",
              "      <td>0</td>\n",
              "      <td>0</td>\n",
              "      <td>0</td>\n",
              "      <td>0</td>\n",
              "      <td>0</td>\n",
              "      <td>0</td>\n",
              "      <td>0</td>\n",
              "      <td>0</td>\n",
              "      <td>0</td>\n",
              "      <td>0</td>\n",
              "      <td>0</td>\n",
              "      <td>0</td>\n",
              "      <td>0</td>\n",
              "      <td>0</td>\n",
              "      <td>0</td>\n",
              "      <td>0</td>\n",
              "      <td>0</td>\n",
              "      <td>0</td>\n",
              "      <td>0</td>\n",
              "      <td>0</td>\n",
              "      <td>0</td>\n",
              "      <td>0</td>\n",
              "      <td>0</td>\n",
              "      <td>0</td>\n",
              "      <td>0</td>\n",
              "      <td>0</td>\n",
              "      <td>0</td>\n",
              "      <td>...</td>\n",
              "      <td>0</td>\n",
              "      <td>0</td>\n",
              "      <td>0</td>\n",
              "      <td>0</td>\n",
              "      <td>0</td>\n",
              "      <td>0</td>\n",
              "      <td>0</td>\n",
              "      <td>0</td>\n",
              "      <td>0</td>\n",
              "      <td>0</td>\n",
              "      <td>0</td>\n",
              "      <td>0</td>\n",
              "      <td>0</td>\n",
              "      <td>0</td>\n",
              "      <td>0</td>\n",
              "      <td>0</td>\n",
              "      <td>0</td>\n",
              "      <td>0</td>\n",
              "      <td>0</td>\n",
              "      <td>0</td>\n",
              "      <td>0</td>\n",
              "      <td>0</td>\n",
              "      <td>0</td>\n",
              "      <td>0</td>\n",
              "      <td>0</td>\n",
              "      <td>0</td>\n",
              "      <td>0</td>\n",
              "      <td>0</td>\n",
              "      <td>0</td>\n",
              "      <td>0</td>\n",
              "      <td>0</td>\n",
              "      <td>0</td>\n",
              "      <td>0</td>\n",
              "      <td>0</td>\n",
              "      <td>0</td>\n",
              "      <td>0</td>\n",
              "      <td>0</td>\n",
              "      <td>0</td>\n",
              "      <td>0</td>\n",
              "      <td>0</td>\n",
              "      <td>0</td>\n",
              "      <td>0</td>\n",
              "      <td>0</td>\n",
              "      <td>0</td>\n",
              "      <td>0</td>\n",
              "      <td>0</td>\n",
              "      <td>0</td>\n",
              "      <td>0</td>\n",
              "      <td>0</td>\n",
              "      <td>0.029736</td>\n",
              "    </tr>\n",
              "    <tr>\n",
              "      <th>2</th>\n",
              "      <td>0</td>\n",
              "      <td>0</td>\n",
              "      <td>0</td>\n",
              "      <td>0</td>\n",
              "      <td>0</td>\n",
              "      <td>0</td>\n",
              "      <td>0</td>\n",
              "      <td>0</td>\n",
              "      <td>0</td>\n",
              "      <td>0</td>\n",
              "      <td>0</td>\n",
              "      <td>0</td>\n",
              "      <td>0</td>\n",
              "      <td>0</td>\n",
              "      <td>0</td>\n",
              "      <td>0</td>\n",
              "      <td>0</td>\n",
              "      <td>0</td>\n",
              "      <td>0</td>\n",
              "      <td>0</td>\n",
              "      <td>0</td>\n",
              "      <td>0</td>\n",
              "      <td>0</td>\n",
              "      <td>0</td>\n",
              "      <td>0</td>\n",
              "      <td>0</td>\n",
              "      <td>0</td>\n",
              "      <td>0</td>\n",
              "      <td>0</td>\n",
              "      <td>0</td>\n",
              "      <td>0</td>\n",
              "      <td>0</td>\n",
              "      <td>0</td>\n",
              "      <td>0</td>\n",
              "      <td>0</td>\n",
              "      <td>0</td>\n",
              "      <td>0</td>\n",
              "      <td>0</td>\n",
              "      <td>0</td>\n",
              "      <td>0</td>\n",
              "      <td>0</td>\n",
              "      <td>0</td>\n",
              "      <td>0</td>\n",
              "      <td>0</td>\n",
              "      <td>0</td>\n",
              "      <td>0</td>\n",
              "      <td>0</td>\n",
              "      <td>0</td>\n",
              "      <td>0</td>\n",
              "      <td>0</td>\n",
              "      <td>...</td>\n",
              "      <td>0</td>\n",
              "      <td>0</td>\n",
              "      <td>0</td>\n",
              "      <td>0</td>\n",
              "      <td>0</td>\n",
              "      <td>0</td>\n",
              "      <td>0</td>\n",
              "      <td>0</td>\n",
              "      <td>0</td>\n",
              "      <td>0</td>\n",
              "      <td>0</td>\n",
              "      <td>0</td>\n",
              "      <td>0</td>\n",
              "      <td>0</td>\n",
              "      <td>0</td>\n",
              "      <td>0</td>\n",
              "      <td>0</td>\n",
              "      <td>0</td>\n",
              "      <td>0</td>\n",
              "      <td>0</td>\n",
              "      <td>0</td>\n",
              "      <td>0</td>\n",
              "      <td>0</td>\n",
              "      <td>0</td>\n",
              "      <td>0</td>\n",
              "      <td>0</td>\n",
              "      <td>0</td>\n",
              "      <td>0</td>\n",
              "      <td>0</td>\n",
              "      <td>0</td>\n",
              "      <td>0</td>\n",
              "      <td>0</td>\n",
              "      <td>0</td>\n",
              "      <td>0</td>\n",
              "      <td>0</td>\n",
              "      <td>0</td>\n",
              "      <td>0</td>\n",
              "      <td>0</td>\n",
              "      <td>0</td>\n",
              "      <td>0</td>\n",
              "      <td>0</td>\n",
              "      <td>0</td>\n",
              "      <td>0</td>\n",
              "      <td>0</td>\n",
              "      <td>0</td>\n",
              "      <td>0</td>\n",
              "      <td>0</td>\n",
              "      <td>0</td>\n",
              "      <td>0</td>\n",
              "      <td>0.168502</td>\n",
              "    </tr>\n",
              "    <tr>\n",
              "      <th>3</th>\n",
              "      <td>0</td>\n",
              "      <td>0</td>\n",
              "      <td>0</td>\n",
              "      <td>0</td>\n",
              "      <td>0</td>\n",
              "      <td>0</td>\n",
              "      <td>0</td>\n",
              "      <td>0</td>\n",
              "      <td>0</td>\n",
              "      <td>0</td>\n",
              "      <td>0</td>\n",
              "      <td>0</td>\n",
              "      <td>0</td>\n",
              "      <td>0</td>\n",
              "      <td>0</td>\n",
              "      <td>0</td>\n",
              "      <td>0</td>\n",
              "      <td>0</td>\n",
              "      <td>0</td>\n",
              "      <td>0</td>\n",
              "      <td>0</td>\n",
              "      <td>0</td>\n",
              "      <td>0</td>\n",
              "      <td>0</td>\n",
              "      <td>0</td>\n",
              "      <td>0</td>\n",
              "      <td>0</td>\n",
              "      <td>0</td>\n",
              "      <td>0</td>\n",
              "      <td>0</td>\n",
              "      <td>0</td>\n",
              "      <td>0</td>\n",
              "      <td>0</td>\n",
              "      <td>0</td>\n",
              "      <td>0</td>\n",
              "      <td>0</td>\n",
              "      <td>0</td>\n",
              "      <td>0</td>\n",
              "      <td>0</td>\n",
              "      <td>0</td>\n",
              "      <td>0</td>\n",
              "      <td>0</td>\n",
              "      <td>0</td>\n",
              "      <td>0</td>\n",
              "      <td>0</td>\n",
              "      <td>0</td>\n",
              "      <td>0</td>\n",
              "      <td>0</td>\n",
              "      <td>0</td>\n",
              "      <td>0</td>\n",
              "      <td>...</td>\n",
              "      <td>0</td>\n",
              "      <td>0</td>\n",
              "      <td>0</td>\n",
              "      <td>0</td>\n",
              "      <td>0</td>\n",
              "      <td>0</td>\n",
              "      <td>0</td>\n",
              "      <td>0</td>\n",
              "      <td>0</td>\n",
              "      <td>0</td>\n",
              "      <td>0</td>\n",
              "      <td>0</td>\n",
              "      <td>0</td>\n",
              "      <td>0</td>\n",
              "      <td>0</td>\n",
              "      <td>0</td>\n",
              "      <td>0</td>\n",
              "      <td>0</td>\n",
              "      <td>0</td>\n",
              "      <td>0</td>\n",
              "      <td>0</td>\n",
              "      <td>0</td>\n",
              "      <td>0</td>\n",
              "      <td>0</td>\n",
              "      <td>0</td>\n",
              "      <td>0</td>\n",
              "      <td>0</td>\n",
              "      <td>0</td>\n",
              "      <td>0</td>\n",
              "      <td>0</td>\n",
              "      <td>0</td>\n",
              "      <td>0</td>\n",
              "      <td>0</td>\n",
              "      <td>0</td>\n",
              "      <td>0</td>\n",
              "      <td>0</td>\n",
              "      <td>0</td>\n",
              "      <td>0</td>\n",
              "      <td>0</td>\n",
              "      <td>0</td>\n",
              "      <td>0</td>\n",
              "      <td>0</td>\n",
              "      <td>0</td>\n",
              "      <td>0</td>\n",
              "      <td>0</td>\n",
              "      <td>0</td>\n",
              "      <td>0</td>\n",
              "      <td>0</td>\n",
              "      <td>0</td>\n",
              "      <td>0.051762</td>\n",
              "    </tr>\n",
              "    <tr>\n",
              "      <th>4</th>\n",
              "      <td>0</td>\n",
              "      <td>0</td>\n",
              "      <td>0</td>\n",
              "      <td>0</td>\n",
              "      <td>0</td>\n",
              "      <td>0</td>\n",
              "      <td>0</td>\n",
              "      <td>0</td>\n",
              "      <td>0</td>\n",
              "      <td>0</td>\n",
              "      <td>0</td>\n",
              "      <td>0</td>\n",
              "      <td>0</td>\n",
              "      <td>0</td>\n",
              "      <td>0</td>\n",
              "      <td>0</td>\n",
              "      <td>0</td>\n",
              "      <td>0</td>\n",
              "      <td>0</td>\n",
              "      <td>0</td>\n",
              "      <td>0</td>\n",
              "      <td>0</td>\n",
              "      <td>0</td>\n",
              "      <td>0</td>\n",
              "      <td>0</td>\n",
              "      <td>0</td>\n",
              "      <td>0</td>\n",
              "      <td>0</td>\n",
              "      <td>0</td>\n",
              "      <td>0</td>\n",
              "      <td>0</td>\n",
              "      <td>0</td>\n",
              "      <td>0</td>\n",
              "      <td>0</td>\n",
              "      <td>0</td>\n",
              "      <td>0</td>\n",
              "      <td>0</td>\n",
              "      <td>0</td>\n",
              "      <td>0</td>\n",
              "      <td>0</td>\n",
              "      <td>0</td>\n",
              "      <td>0</td>\n",
              "      <td>0</td>\n",
              "      <td>0</td>\n",
              "      <td>0</td>\n",
              "      <td>0</td>\n",
              "      <td>0</td>\n",
              "      <td>0</td>\n",
              "      <td>0</td>\n",
              "      <td>0</td>\n",
              "      <td>...</td>\n",
              "      <td>0</td>\n",
              "      <td>0</td>\n",
              "      <td>0</td>\n",
              "      <td>0</td>\n",
              "      <td>0</td>\n",
              "      <td>0</td>\n",
              "      <td>0</td>\n",
              "      <td>0</td>\n",
              "      <td>0</td>\n",
              "      <td>0</td>\n",
              "      <td>0</td>\n",
              "      <td>0</td>\n",
              "      <td>0</td>\n",
              "      <td>0</td>\n",
              "      <td>0</td>\n",
              "      <td>0</td>\n",
              "      <td>0</td>\n",
              "      <td>0</td>\n",
              "      <td>0</td>\n",
              "      <td>0</td>\n",
              "      <td>0</td>\n",
              "      <td>0</td>\n",
              "      <td>0</td>\n",
              "      <td>0</td>\n",
              "      <td>0</td>\n",
              "      <td>0</td>\n",
              "      <td>0</td>\n",
              "      <td>0</td>\n",
              "      <td>0</td>\n",
              "      <td>0</td>\n",
              "      <td>0</td>\n",
              "      <td>0</td>\n",
              "      <td>0</td>\n",
              "      <td>0</td>\n",
              "      <td>0</td>\n",
              "      <td>0</td>\n",
              "      <td>0</td>\n",
              "      <td>0</td>\n",
              "      <td>0</td>\n",
              "      <td>0</td>\n",
              "      <td>0</td>\n",
              "      <td>0</td>\n",
              "      <td>0</td>\n",
              "      <td>0</td>\n",
              "      <td>0</td>\n",
              "      <td>0</td>\n",
              "      <td>0</td>\n",
              "      <td>0</td>\n",
              "      <td>0</td>\n",
              "      <td>0.064978</td>\n",
              "    </tr>\n",
              "  </tbody>\n",
              "</table>\n",
              "<p>5 rows × 2001 columns</p>\n",
              "</div>"
            ],
            "text/plain": [
              "   0  1  2  3  4  5  6  7  8  9  10  11  12  13  14  15  16  17  18  19  20  \\\n",
              "0  0  0  0  0  0  0  0  0  0  0   0   0   0   0   0   0   0   0   0   0   0   \n",
              "1  0  0  0  0  0  0  0  0  0  0   0   0   0   0   0   0   0   0   0   0   0   \n",
              "2  0  0  0  0  0  0  0  0  0  0   0   0   0   0   0   0   0   0   0   0   0   \n",
              "3  0  0  0  0  0  0  0  0  0  0   0   0   0   0   0   0   0   0   0   0   0   \n",
              "4  0  0  0  0  0  0  0  0  0  0   0   0   0   0   0   0   0   0   0   0   0   \n",
              "\n",
              "   21  22  23  24  25  26  27  28  29  30  31  32  33  34  35  36  37  38  39  \\\n",
              "0   0   0   0   0   0   0   0   0   0   0   0   0   0   0   0   0   0   0   0   \n",
              "1   0   0   0   0   0   0   0   0   0   0   0   0   0   0   0   0   0   0   0   \n",
              "2   0   0   0   0   0   0   0   0   0   0   0   0   0   0   0   0   0   0   0   \n",
              "3   0   0   0   0   0   0   0   0   0   0   0   0   0   0   0   0   0   0   0   \n",
              "4   0   0   0   0   0   0   0   0   0   0   0   0   0   0   0   0   0   0   0   \n",
              "\n",
              "   40  41  42  43  44  45  46  47  48  49  ...  1951  1952  1953  1954  1955  \\\n",
              "0   0   0   0   0   0   0   0   0   0   0  ...     0     0     0     0     0   \n",
              "1   0   0   0   0   0   0   0   0   0   0  ...     0     0     0     0     0   \n",
              "2   0   0   0   0   0   0   0   0   0   0  ...     0     0     0     0     0   \n",
              "3   0   0   0   0   0   0   0   0   0   0  ...     0     0     0     0     0   \n",
              "4   0   0   0   0   0   0   0   0   0   0  ...     0     0     0     0     0   \n",
              "\n",
              "   1956  1957  1958  1959  1960  1961  1962  1963  1964  1965  1966  1967  \\\n",
              "0     0     0     0     0     0     0     0     0     0     0     0     0   \n",
              "1     0     0     0     0     0     0     0     0     0     0     0     0   \n",
              "2     0     0     0     0     0     0     0     0     0     0     0     0   \n",
              "3     0     0     0     0     0     0     0     0     0     0     0     0   \n",
              "4     0     0     0     0     0     0     0     0     0     0     0     0   \n",
              "\n",
              "   1968  1969  1970  1971  1972  1973  1974  1975  1976  1977  1978  1979  \\\n",
              "0     0     0     0     0     0     0     0     0     0     0     0     0   \n",
              "1     0     0     0     0     0     0     0     0     0     0     0     0   \n",
              "2     0     0     0     0     0     0     0     0     0     0     0     0   \n",
              "3     0     0     0     0     0     0     0     0     0     0     0     0   \n",
              "4     0     0     0     0     0     0     0     0     0     0     0     0   \n",
              "\n",
              "   1980  1981  1982  1983  1984  1985  1986  1987  1988  1989  1990  1991  \\\n",
              "0     0     0     0     0     0     0     0     0     0     0     0     0   \n",
              "1     0     0     0     0     0     0     0     0     0     0     0     0   \n",
              "2     0     0     0     0     0     0     0     0     0     0     0     0   \n",
              "3     0     0     0     0     0     0     0     0     0     0     0     0   \n",
              "4     0     0     0     0     0     0     0     0     0     0     0     0   \n",
              "\n",
              "   1992  1993  1994  1995  1996  1997  1998  1999  scaled_msg_length  \n",
              "0     0     0     0     0     0     0     0     0           0.120044  \n",
              "1     0     0     0     0     0     0     0     0           0.029736  \n",
              "2     0     0     0     0     0     0     0     0           0.168502  \n",
              "3     0     0     0     0     0     0     0     0           0.051762  \n",
              "4     0     0     0     0     0     0     0     0           0.064978  \n",
              "\n",
              "[5 rows x 2001 columns]"
            ]
          },
          "metadata": {
            "tags": []
          },
          "execution_count": 36
        }
      ]
    },
    {
      "cell_type": "code",
      "metadata": {
        "colab": {
          "base_uri": "https://localhost:8080/"
        },
        "id": "qhFZUAMCW_65",
        "outputId": "5b634264-b8c2-4bc0-b128-84f042c333fa"
      },
      "source": [
        "y.shape\r\n",
        "y.sample(2)"
      ],
      "execution_count": 37,
      "outputs": [
        {
          "output_type": "execute_result",
          "data": {
            "text/plain": [
              "(5572,)"
            ]
          },
          "metadata": {
            "tags": []
          },
          "execution_count": 37
        },
        {
          "output_type": "execute_result",
          "data": {
            "text/plain": [
              "3577    0\n",
              "1161    0\n",
              "Name: spam, dtype: int64"
            ]
          },
          "metadata": {
            "tags": []
          },
          "execution_count": 37
        }
      ]
    },
    {
      "cell_type": "markdown",
      "metadata": {
        "id": "KIat70EB5GQC"
      },
      "source": [
        "<a id='section6'></a>\r\n",
        "# 6. MODEL PREDICTIONS\r\n",
        "\r\n",
        "The Target variable \"spam\" is a binary class variable, hence its a classification dataset where in we need to find if a message is a spam or a ham. The algorithms which I will be applying for this dataset are listed below:\r\n",
        "  1. Logistic Regression\r\n",
        "  2. Decision Forest Classifier\r\n",
        "  3. Random Trees Classifier\r\n",
        "  4. K - Nearest Neighbour\r\n",
        "  5. Gaussian Naive Bayes\r\n",
        "\r\n",
        "The different metrics we have validating the models are:\r\n",
        "  1. Confusion Matrix\r\n",
        "  2. Accuracy\r\n",
        "  3. Recall\r\n",
        "  4. Precision\r\n",
        "  5. F1 Score\r\n",
        "\r\n",
        "In this dataset we are trying to classify a message as ham(0) or spam(1)\r\n",
        "1. Accuracy : (TP + TN)/ (TP + TN + FP + FN)  \r\n",
        "   How many hams and spams where correctly classified??\r\n",
        "2. Recall/Sensitivity: TP/ (TP + FN)  \r\n",
        "   How many spams where correctly predicted out of the total spams?\r\n",
        "3. Precision: TP/(TP + FP)  \r\n",
        "   How many spams where correctly predicted out of total predictions?\r\n",
        "4. F1 Score: 2.Precision * Recall/ (Precision + Recall)\r\n",
        "   Weighted average of True positives and True negatives.\r\n",
        "\r\n",
        "FN: We predicted as not spam but it was actually a spam.\r\n",
        "FP: We predicted as spam but it was actually not a spam.\r\n",
        "\r\n",
        "Here, we should avoid predicting a message as spam, which was not a spam, becuase it might be an important message. Hence FP should be less, which means precision should be very high for this dataset.\r\n",
        "\r\n",
        "So, in the modelling, we need to make sure that the accuracy and precision are high."
      ]
    },
    {
      "cell_type": "markdown",
      "metadata": {
        "id": "vtql0F8V7i90"
      },
      "source": [
        "<a id=section601></a>\r\n",
        "## 6.1 Train Test Split\r\n",
        "\r\n",
        "Lets split the data with the ratio of 80:20 for train and test."
      ]
    },
    {
      "cell_type": "code",
      "metadata": {
        "colab": {
          "base_uri": "https://localhost:8080/"
        },
        "id": "HZKfkWK575u4",
        "outputId": "382ef883-16e4-446d-8b4f-9f0c6d50f510"
      },
      "source": [
        "from sklearn.model_selection import train_test_split\r\n",
        "# Split the data into train and test\r\n",
        "X_train, X_test, y_train, y_test = train_test_split(X, y, test_size=0.20, random_state=42)\r\n",
        "print(\"X Train and Test are: \", X_train.shape, X_test.shape)\r\n",
        "print(\"Y Train and Test are: \", y_train.shape, y_test.shape)"
      ],
      "execution_count": 38,
      "outputs": [
        {
          "output_type": "stream",
          "text": [
            "X Train and Test are:  (4457, 2001) (1115, 2001)\n",
            "Y Train and Test are:  (4457,) (1115,)\n"
          ],
          "name": "stdout"
        }
      ]
    },
    {
      "cell_type": "markdown",
      "metadata": {
        "id": "EbY6lQRS_kVC"
      },
      "source": [
        "<a id=section602></a>\r\n",
        "## 6.2 Import required libraries for predictions"
      ]
    },
    {
      "cell_type": "code",
      "metadata": {
        "id": "cJGGi9cL_qEm"
      },
      "source": [
        "# Import required libraries and create a list of base models to be predicted.\r\n",
        "\r\n",
        "from sklearn.linear_model import LogisticRegression\r\n",
        "from sklearn.tree import DecisionTreeClassifier\r\n",
        "from sklearn.ensemble import RandomForestClassifier\r\n",
        "from sklearn.neighbors import KNeighborsClassifier\r\n",
        "from sklearn.naive_bayes import MultinomialNB\r\n",
        "from sklearn.naive_bayes import GaussianNB\r\n",
        "from sklearn.metrics import confusion_matrix, accuracy_score, precision_score, recall_score, f1_score\r\n",
        "from sklearn.model_selection import RandomizedSearchCV\r\n",
        "from scipy.stats import randint as sp_randint\r\n",
        "from sklearn.model_selection import GridSearchCV\r\n",
        "\r\n",
        "models = [LogisticRegression(random_state = 42),DecisionTreeClassifier(random_state = 42),RandomForestClassifier(random_state = 42),KNeighborsClassifier(),MultinomialNB(), GaussianNB()]"
      ],
      "execution_count": 39,
      "outputs": []
    },
    {
      "cell_type": "markdown",
      "metadata": {
        "id": "cJzjwpRV8tCI"
      },
      "source": [
        "<a id=section603></a>\r\n",
        "## 6.3 Define functions for performing modeling and predictions"
      ]
    },
    {
      "cell_type": "markdown",
      "metadata": {
        "id": "mZbl417W837f"
      },
      "source": [
        "<a id=section60301></a>\r\n",
        "### 6.3.1 Function for running models and printing scores"
      ]
    },
    {
      "cell_type": "code",
      "metadata": {
        "id": "6YBE2CsH8r8k"
      },
      "source": [
        "def run_model(model, X_train, y_train, X_test, y_test, model_metrics):\r\n",
        "    model.fit(X_train, y_train)\r\n",
        "    y_pred_test = model.predict(X_test)\r\n",
        "    y_pred_train = model.predict(X_train)\r\n",
        "    scores = get_metrics(y_train,y_pred_train,y_test,y_pred_test,model_metrics,model)\r\n",
        "    return(scores)"
      ],
      "execution_count": 40,
      "outputs": []
    },
    {
      "cell_type": "markdown",
      "metadata": {
        "id": "KbHKCLX7FUAV"
      },
      "source": [
        "<a id=section60302></a>\r\n",
        "### 6.3.2 Function to get the metrics"
      ]
    },
    {
      "cell_type": "code",
      "metadata": {
        "id": "mE25yiI_FTBJ"
      },
      "source": [
        "def get_metrics(y_train,y_pred_train,y_test,y_pred_test,model_metrics,model):\r\n",
        "    accuracy_test = accuracy_score(y_test, y_pred_test)\r\n",
        "    accuracy_train = accuracy_score(y_train, y_pred_train)\r\n",
        "    precision_test = precision_score(y_test,y_pred_test)\r\n",
        "    precision_train = precision_score(y_train,y_pred_train)\r\n",
        "    recall_test = recall_score(y_test,y_pred_test)\r\n",
        "    recall_train = recall_score(y_train,y_pred_train)\r\n",
        "    f1score_test = f1_score(y_test,y_pred_test)\r\n",
        "    f1score_train = f1_score(y_train,y_pred_train)\r\n",
        "    new_row = {'model': type(model).__name__, 'accuracy_test': accuracy_test, 'accuracy_train': accuracy_train, 'precision_test': precision_test,\r\n",
        "              'precision_train':precision_train, 'recall_test': recall_test, 'recall_train':recall_train,\r\n",
        "              'f1score_test' : f1score_test, 'f1score_train':f1score_train}\r\n",
        "    model_metrics = model_metrics.append(new_row, ignore_index=True)\r\n",
        "    return(model_metrics)"
      ],
      "execution_count": 41,
      "outputs": []
    },
    {
      "cell_type": "markdown",
      "metadata": {
        "id": "RXlzcb1E9666"
      },
      "source": [
        "<a id=section60303></a>\r\n",
        "### 6.3.3 Function for performing randomized search"
      ]
    },
    {
      "cell_type": "code",
      "metadata": {
        "id": "xLb0zQ6A9hWm"
      },
      "source": [
        "def run_grid_model(model, grid, X_train, y_train, X_test, y_test,model_metrics):\r\n",
        "    rf_random = RandomizedSearchCV(estimator = model, param_distributions = grid, n_iter = 100, cv = 5, n_jobs = -1, verbose= 3)\r\n",
        "    # Fit the random search model\r\n",
        "    rf_random.fit(X_train, y_train)\r\n",
        "    print(f\"Best params of the randomized searchcv model is : {rf_random.best_params_} \\n-----------------------------------\")\r\n",
        "    y_pred_test = rf_random.predict(X_test)\r\n",
        "    y_pred_train = rf_random.predict(X_train)\r\n",
        "    scores = get_metrics(y_train,y_pred_train,y_test,y_pred_test,model_metrics,model)\r\n",
        "    return(scores)"
      ],
      "execution_count": 42,
      "outputs": []
    },
    {
      "cell_type": "markdown",
      "metadata": {
        "id": "BCKkTvhW-na5"
      },
      "source": [
        "<a id=section604></a>\r\n",
        "## 6.4 Model Prediction"
      ]
    },
    {
      "cell_type": "markdown",
      "metadata": {
        "id": "793WFcBYPWiY"
      },
      "source": [
        "<a id=section60401></a>\r\n",
        "### 6.4.1 Base Model Prediction and Metrics"
      ]
    },
    {
      "cell_type": "code",
      "metadata": {
        "colab": {
          "base_uri": "https://localhost:8080/",
          "height": 242
        },
        "id": "oMZ61MOy-vlv",
        "outputId": "0477ca2d-d58c-4805-dc02-f324f5bb3dea"
      },
      "source": [
        "print (\"This is base model experiementation to decide benchmark models\")\r\n",
        "data = {'model': [], 'accuracy_test': [], 'accuracy_train':[],'precision_test': [],'precision_train': [], 'recall_test': [], 'recall_train': [], 'f1score_test': [], 'f1score_train': []}\r\n",
        "model_metrics = pd.DataFrame(data)\r\n",
        "i=0\r\n",
        "for eachModel in models:\r\n",
        "  model_metrics = run_model(eachModel,X_train, y_train, X_test, y_test, model_metrics)\r\n",
        "\r\n",
        "model_metrics"
      ],
      "execution_count": 43,
      "outputs": [
        {
          "output_type": "stream",
          "text": [
            "This is base model experiementation to decide benchmark models\n"
          ],
          "name": "stdout"
        },
        {
          "output_type": "execute_result",
          "data": {
            "text/html": [
              "<div>\n",
              "<style scoped>\n",
              "    .dataframe tbody tr th:only-of-type {\n",
              "        vertical-align: middle;\n",
              "    }\n",
              "\n",
              "    .dataframe tbody tr th {\n",
              "        vertical-align: top;\n",
              "    }\n",
              "\n",
              "    .dataframe thead th {\n",
              "        text-align: right;\n",
              "    }\n",
              "</style>\n",
              "<table border=\"1\" class=\"dataframe\">\n",
              "  <thead>\n",
              "    <tr style=\"text-align: right;\">\n",
              "      <th></th>\n",
              "      <th>model</th>\n",
              "      <th>accuracy_test</th>\n",
              "      <th>accuracy_train</th>\n",
              "      <th>precision_test</th>\n",
              "      <th>precision_train</th>\n",
              "      <th>recall_test</th>\n",
              "      <th>recall_train</th>\n",
              "      <th>f1score_test</th>\n",
              "      <th>f1score_train</th>\n",
              "    </tr>\n",
              "  </thead>\n",
              "  <tbody>\n",
              "    <tr>\n",
              "      <th>0</th>\n",
              "      <td>LogisticRegression</td>\n",
              "      <td>0.981166</td>\n",
              "      <td>0.993269</td>\n",
              "      <td>0.992366</td>\n",
              "      <td>0.998243</td>\n",
              "      <td>0.866667</td>\n",
              "      <td>0.951424</td>\n",
              "      <td>0.925267</td>\n",
              "      <td>0.974271</td>\n",
              "    </tr>\n",
              "    <tr>\n",
              "      <th>1</th>\n",
              "      <td>DecisionTreeClassifier</td>\n",
              "      <td>0.960538</td>\n",
              "      <td>1.000000</td>\n",
              "      <td>0.848684</td>\n",
              "      <td>1.000000</td>\n",
              "      <td>0.860000</td>\n",
              "      <td>1.000000</td>\n",
              "      <td>0.854305</td>\n",
              "      <td>1.000000</td>\n",
              "    </tr>\n",
              "    <tr>\n",
              "      <th>2</th>\n",
              "      <td>RandomForestClassifier</td>\n",
              "      <td>0.983857</td>\n",
              "      <td>1.000000</td>\n",
              "      <td>0.992537</td>\n",
              "      <td>1.000000</td>\n",
              "      <td>0.886667</td>\n",
              "      <td>1.000000</td>\n",
              "      <td>0.936620</td>\n",
              "      <td>1.000000</td>\n",
              "    </tr>\n",
              "    <tr>\n",
              "      <th>3</th>\n",
              "      <td>KNeighborsClassifier</td>\n",
              "      <td>0.959641</td>\n",
              "      <td>0.964999</td>\n",
              "      <td>0.981651</td>\n",
              "      <td>0.986755</td>\n",
              "      <td>0.713333</td>\n",
              "      <td>0.748744</td>\n",
              "      <td>0.826255</td>\n",
              "      <td>0.851429</td>\n",
              "    </tr>\n",
              "    <tr>\n",
              "      <th>4</th>\n",
              "      <td>MultinomialNB</td>\n",
              "      <td>0.980269</td>\n",
              "      <td>0.986314</td>\n",
              "      <td>0.938356</td>\n",
              "      <td>0.948161</td>\n",
              "      <td>0.913333</td>\n",
              "      <td>0.949749</td>\n",
              "      <td>0.925676</td>\n",
              "      <td>0.948954</td>\n",
              "    </tr>\n",
              "    <tr>\n",
              "      <th>5</th>\n",
              "      <td>GaussianNB</td>\n",
              "      <td>0.839462</td>\n",
              "      <td>0.867624</td>\n",
              "      <td>0.451505</td>\n",
              "      <td>0.502949</td>\n",
              "      <td>0.900000</td>\n",
              "      <td>1.000000</td>\n",
              "      <td>0.601336</td>\n",
              "      <td>0.669283</td>\n",
              "    </tr>\n",
              "  </tbody>\n",
              "</table>\n",
              "</div>"
            ],
            "text/plain": [
              "                    model  accuracy_test  accuracy_train  precision_test  \\\n",
              "0      LogisticRegression       0.981166        0.993269        0.992366   \n",
              "1  DecisionTreeClassifier       0.960538        1.000000        0.848684   \n",
              "2  RandomForestClassifier       0.983857        1.000000        0.992537   \n",
              "3    KNeighborsClassifier       0.959641        0.964999        0.981651   \n",
              "4           MultinomialNB       0.980269        0.986314        0.938356   \n",
              "5              GaussianNB       0.839462        0.867624        0.451505   \n",
              "\n",
              "   precision_train  recall_test  recall_train  f1score_test  f1score_train  \n",
              "0         0.998243     0.866667      0.951424      0.925267       0.974271  \n",
              "1         1.000000     0.860000      1.000000      0.854305       1.000000  \n",
              "2         1.000000     0.886667      1.000000      0.936620       1.000000  \n",
              "3         0.986755     0.713333      0.748744      0.826255       0.851429  \n",
              "4         0.948161     0.913333      0.949749      0.925676       0.948954  \n",
              "5         0.502949     0.900000      1.000000      0.601336       0.669283  "
            ]
          },
          "metadata": {
            "tags": []
          },
          "execution_count": 43
        }
      ]
    },
    {
      "cell_type": "code",
      "metadata": {
        "colab": {
          "base_uri": "https://localhost:8080/",
          "height": 242
        },
        "id": "8OUseojkD-7y",
        "outputId": "94c1f127-77cb-4a6a-a03c-542330a3ebd1"
      },
      "source": [
        "# Test data metrics\r\n",
        "print(\" Base model prediction: Test data metrics\")\r\n",
        "model_metrics.iloc[:,[0,1,3,5,7]]"
      ],
      "execution_count": 44,
      "outputs": [
        {
          "output_type": "stream",
          "text": [
            " Base model prediction: Test data metrics\n"
          ],
          "name": "stdout"
        },
        {
          "output_type": "execute_result",
          "data": {
            "text/html": [
              "<div>\n",
              "<style scoped>\n",
              "    .dataframe tbody tr th:only-of-type {\n",
              "        vertical-align: middle;\n",
              "    }\n",
              "\n",
              "    .dataframe tbody tr th {\n",
              "        vertical-align: top;\n",
              "    }\n",
              "\n",
              "    .dataframe thead th {\n",
              "        text-align: right;\n",
              "    }\n",
              "</style>\n",
              "<table border=\"1\" class=\"dataframe\">\n",
              "  <thead>\n",
              "    <tr style=\"text-align: right;\">\n",
              "      <th></th>\n",
              "      <th>model</th>\n",
              "      <th>accuracy_test</th>\n",
              "      <th>precision_test</th>\n",
              "      <th>recall_test</th>\n",
              "      <th>f1score_test</th>\n",
              "    </tr>\n",
              "  </thead>\n",
              "  <tbody>\n",
              "    <tr>\n",
              "      <th>0</th>\n",
              "      <td>LogisticRegression</td>\n",
              "      <td>0.981166</td>\n",
              "      <td>0.992366</td>\n",
              "      <td>0.866667</td>\n",
              "      <td>0.925267</td>\n",
              "    </tr>\n",
              "    <tr>\n",
              "      <th>1</th>\n",
              "      <td>DecisionTreeClassifier</td>\n",
              "      <td>0.960538</td>\n",
              "      <td>0.848684</td>\n",
              "      <td>0.860000</td>\n",
              "      <td>0.854305</td>\n",
              "    </tr>\n",
              "    <tr>\n",
              "      <th>2</th>\n",
              "      <td>RandomForestClassifier</td>\n",
              "      <td>0.983857</td>\n",
              "      <td>0.992537</td>\n",
              "      <td>0.886667</td>\n",
              "      <td>0.936620</td>\n",
              "    </tr>\n",
              "    <tr>\n",
              "      <th>3</th>\n",
              "      <td>KNeighborsClassifier</td>\n",
              "      <td>0.959641</td>\n",
              "      <td>0.981651</td>\n",
              "      <td>0.713333</td>\n",
              "      <td>0.826255</td>\n",
              "    </tr>\n",
              "    <tr>\n",
              "      <th>4</th>\n",
              "      <td>MultinomialNB</td>\n",
              "      <td>0.980269</td>\n",
              "      <td>0.938356</td>\n",
              "      <td>0.913333</td>\n",
              "      <td>0.925676</td>\n",
              "    </tr>\n",
              "    <tr>\n",
              "      <th>5</th>\n",
              "      <td>GaussianNB</td>\n",
              "      <td>0.839462</td>\n",
              "      <td>0.451505</td>\n",
              "      <td>0.900000</td>\n",
              "      <td>0.601336</td>\n",
              "    </tr>\n",
              "  </tbody>\n",
              "</table>\n",
              "</div>"
            ],
            "text/plain": [
              "                    model  accuracy_test  precision_test  recall_test  \\\n",
              "0      LogisticRegression       0.981166        0.992366     0.866667   \n",
              "1  DecisionTreeClassifier       0.960538        0.848684     0.860000   \n",
              "2  RandomForestClassifier       0.983857        0.992537     0.886667   \n",
              "3    KNeighborsClassifier       0.959641        0.981651     0.713333   \n",
              "4           MultinomialNB       0.980269        0.938356     0.913333   \n",
              "5              GaussianNB       0.839462        0.451505     0.900000   \n",
              "\n",
              "   f1score_test  \n",
              "0      0.925267  \n",
              "1      0.854305  \n",
              "2      0.936620  \n",
              "3      0.826255  \n",
              "4      0.925676  \n",
              "5      0.601336  "
            ]
          },
          "metadata": {
            "tags": []
          },
          "execution_count": 44
        }
      ]
    },
    {
      "cell_type": "code",
      "metadata": {
        "colab": {
          "base_uri": "https://localhost:8080/",
          "height": 242
        },
        "id": "ehPIY3esFfxA",
        "outputId": "9c474c7b-4a36-4df8-c82a-f7f46adf0780"
      },
      "source": [
        "# Train data metrics\r\n",
        "print(\" Base model prediction: Train data metrics\")\r\n",
        "model_metrics.iloc[:,[0,2,4,6,8]]"
      ],
      "execution_count": 45,
      "outputs": [
        {
          "output_type": "stream",
          "text": [
            " Base model prediction: Train data metrics\n"
          ],
          "name": "stdout"
        },
        {
          "output_type": "execute_result",
          "data": {
            "text/html": [
              "<div>\n",
              "<style scoped>\n",
              "    .dataframe tbody tr th:only-of-type {\n",
              "        vertical-align: middle;\n",
              "    }\n",
              "\n",
              "    .dataframe tbody tr th {\n",
              "        vertical-align: top;\n",
              "    }\n",
              "\n",
              "    .dataframe thead th {\n",
              "        text-align: right;\n",
              "    }\n",
              "</style>\n",
              "<table border=\"1\" class=\"dataframe\">\n",
              "  <thead>\n",
              "    <tr style=\"text-align: right;\">\n",
              "      <th></th>\n",
              "      <th>model</th>\n",
              "      <th>accuracy_train</th>\n",
              "      <th>precision_train</th>\n",
              "      <th>recall_train</th>\n",
              "      <th>f1score_train</th>\n",
              "    </tr>\n",
              "  </thead>\n",
              "  <tbody>\n",
              "    <tr>\n",
              "      <th>0</th>\n",
              "      <td>LogisticRegression</td>\n",
              "      <td>0.993269</td>\n",
              "      <td>0.998243</td>\n",
              "      <td>0.951424</td>\n",
              "      <td>0.974271</td>\n",
              "    </tr>\n",
              "    <tr>\n",
              "      <th>1</th>\n",
              "      <td>DecisionTreeClassifier</td>\n",
              "      <td>1.000000</td>\n",
              "      <td>1.000000</td>\n",
              "      <td>1.000000</td>\n",
              "      <td>1.000000</td>\n",
              "    </tr>\n",
              "    <tr>\n",
              "      <th>2</th>\n",
              "      <td>RandomForestClassifier</td>\n",
              "      <td>1.000000</td>\n",
              "      <td>1.000000</td>\n",
              "      <td>1.000000</td>\n",
              "      <td>1.000000</td>\n",
              "    </tr>\n",
              "    <tr>\n",
              "      <th>3</th>\n",
              "      <td>KNeighborsClassifier</td>\n",
              "      <td>0.964999</td>\n",
              "      <td>0.986755</td>\n",
              "      <td>0.748744</td>\n",
              "      <td>0.851429</td>\n",
              "    </tr>\n",
              "    <tr>\n",
              "      <th>4</th>\n",
              "      <td>MultinomialNB</td>\n",
              "      <td>0.986314</td>\n",
              "      <td>0.948161</td>\n",
              "      <td>0.949749</td>\n",
              "      <td>0.948954</td>\n",
              "    </tr>\n",
              "    <tr>\n",
              "      <th>5</th>\n",
              "      <td>GaussianNB</td>\n",
              "      <td>0.867624</td>\n",
              "      <td>0.502949</td>\n",
              "      <td>1.000000</td>\n",
              "      <td>0.669283</td>\n",
              "    </tr>\n",
              "  </tbody>\n",
              "</table>\n",
              "</div>"
            ],
            "text/plain": [
              "                    model  accuracy_train  precision_train  recall_train  \\\n",
              "0      LogisticRegression        0.993269         0.998243      0.951424   \n",
              "1  DecisionTreeClassifier        1.000000         1.000000      1.000000   \n",
              "2  RandomForestClassifier        1.000000         1.000000      1.000000   \n",
              "3    KNeighborsClassifier        0.964999         0.986755      0.748744   \n",
              "4           MultinomialNB        0.986314         0.948161      0.949749   \n",
              "5              GaussianNB        0.867624         0.502949      1.000000   \n",
              "\n",
              "   f1score_train  \n",
              "0       0.974271  \n",
              "1       1.000000  \n",
              "2       1.000000  \n",
              "3       0.851429  \n",
              "4       0.948954  \n",
              "5       0.669283  "
            ]
          },
          "metadata": {
            "tags": []
          },
          "execution_count": 45
        }
      ]
    },
    {
      "cell_type": "markdown",
      "metadata": {
        "id": "JHw9koW0tpY9"
      },
      "source": [
        "Observations:\r\n",
        "Random Forest Classifer is our best model with:\r\n",
        "  * Highest accuracy of 98.3% for test data and 100% for train data, which means approx 98% of our predictions are correct.\r\n",
        "  * Precision of 99.2% test data and 100% train data which means, approx 99% of the spam messages where predicted correctly out of the total predictions.\r\n",
        "  * Around approx (12%) of the spam data where missed and wrongly predicted as not spam.\r\n",
        "\r\n",
        "Lets improve the Random Classifier by adding the random grid search feature:"
      ]
    },
    {
      "cell_type": "markdown",
      "metadata": {
        "id": "4uqBGuKUPfjf"
      },
      "source": [
        "<a id=section60402></a>\r\n",
        "### 6.4.2 Parameterized Model Predictions and Metrics"
      ]
    },
    {
      "cell_type": "markdown",
      "metadata": {
        "id": "3LYXApt89FwD"
      },
      "source": [
        "<a id=section6040201></a>\r\n",
        "#### 6.4.2.1 Random Forest Classifier with Random Grid search"
      ]
    },
    {
      "cell_type": "code",
      "metadata": {
        "id": "NkfQ5b8hwpuI"
      },
      "source": [
        "# Create the random grid\r\n",
        "random_grid = {'n_estimators': [50,100],\r\n",
        "               'max_features': ['auto', 'sqrt'],\r\n",
        "               'max_depth': [10,30,50,70,100],\r\n",
        "               'min_samples_split': [2,5,10],\r\n",
        "               'min_samples_leaf': [1,2,4],\r\n",
        "               'bootstrap': [True,False],\r\n",
        "               'criterion': ['gini']}"
      ],
      "execution_count": 46,
      "outputs": []
    },
    {
      "cell_type": "code",
      "metadata": {
        "colab": {
          "base_uri": "https://localhost:8080/",
          "height": 409
        },
        "id": "RxVKViJRxPAf",
        "outputId": "7390de9e-adf2-4a7c-de9a-c3413a094d01"
      },
      "source": [
        "model_metrics = run_grid_model(RandomForestClassifier(random_state = 42),random_grid, X_train, y_train, X_test, y_test, model_metrics)\r\n",
        "model_metrics"
      ],
      "execution_count": 47,
      "outputs": [
        {
          "output_type": "stream",
          "text": [
            "Fitting 5 folds for each of 100 candidates, totalling 500 fits\n"
          ],
          "name": "stdout"
        },
        {
          "output_type": "stream",
          "text": [
            "[Parallel(n_jobs=-1)]: Using backend LokyBackend with 2 concurrent workers.\n",
            "[Parallel(n_jobs=-1)]: Done  28 tasks      | elapsed:   46.0s\n",
            "[Parallel(n_jobs=-1)]: Done 124 tasks      | elapsed:  3.1min\n",
            "[Parallel(n_jobs=-1)]: Done 284 tasks      | elapsed:  7.4min\n",
            "[Parallel(n_jobs=-1)]: Done 500 out of 500 | elapsed: 12.0min finished\n"
          ],
          "name": "stderr"
        },
        {
          "output_type": "stream",
          "text": [
            "Best params of the randomized searchcv model is : {'n_estimators': 50, 'min_samples_split': 2, 'min_samples_leaf': 1, 'max_features': 'auto', 'max_depth': 100, 'criterion': 'gini', 'bootstrap': False} \n",
            "-----------------------------------\n"
          ],
          "name": "stdout"
        },
        {
          "output_type": "execute_result",
          "data": {
            "text/html": [
              "<div>\n",
              "<style scoped>\n",
              "    .dataframe tbody tr th:only-of-type {\n",
              "        vertical-align: middle;\n",
              "    }\n",
              "\n",
              "    .dataframe tbody tr th {\n",
              "        vertical-align: top;\n",
              "    }\n",
              "\n",
              "    .dataframe thead th {\n",
              "        text-align: right;\n",
              "    }\n",
              "</style>\n",
              "<table border=\"1\" class=\"dataframe\">\n",
              "  <thead>\n",
              "    <tr style=\"text-align: right;\">\n",
              "      <th></th>\n",
              "      <th>model</th>\n",
              "      <th>accuracy_test</th>\n",
              "      <th>accuracy_train</th>\n",
              "      <th>precision_test</th>\n",
              "      <th>precision_train</th>\n",
              "      <th>recall_test</th>\n",
              "      <th>recall_train</th>\n",
              "      <th>f1score_test</th>\n",
              "      <th>f1score_train</th>\n",
              "    </tr>\n",
              "  </thead>\n",
              "  <tbody>\n",
              "    <tr>\n",
              "      <th>0</th>\n",
              "      <td>LogisticRegression</td>\n",
              "      <td>0.981166</td>\n",
              "      <td>0.993269</td>\n",
              "      <td>0.992366</td>\n",
              "      <td>0.998243</td>\n",
              "      <td>0.866667</td>\n",
              "      <td>0.951424</td>\n",
              "      <td>0.925267</td>\n",
              "      <td>0.974271</td>\n",
              "    </tr>\n",
              "    <tr>\n",
              "      <th>1</th>\n",
              "      <td>DecisionTreeClassifier</td>\n",
              "      <td>0.960538</td>\n",
              "      <td>1.000000</td>\n",
              "      <td>0.848684</td>\n",
              "      <td>1.000000</td>\n",
              "      <td>0.860000</td>\n",
              "      <td>1.000000</td>\n",
              "      <td>0.854305</td>\n",
              "      <td>1.000000</td>\n",
              "    </tr>\n",
              "    <tr>\n",
              "      <th>2</th>\n",
              "      <td>RandomForestClassifier</td>\n",
              "      <td>0.983857</td>\n",
              "      <td>1.000000</td>\n",
              "      <td>0.992537</td>\n",
              "      <td>1.000000</td>\n",
              "      <td>0.886667</td>\n",
              "      <td>1.000000</td>\n",
              "      <td>0.936620</td>\n",
              "      <td>1.000000</td>\n",
              "    </tr>\n",
              "    <tr>\n",
              "      <th>3</th>\n",
              "      <td>KNeighborsClassifier</td>\n",
              "      <td>0.959641</td>\n",
              "      <td>0.964999</td>\n",
              "      <td>0.981651</td>\n",
              "      <td>0.986755</td>\n",
              "      <td>0.713333</td>\n",
              "      <td>0.748744</td>\n",
              "      <td>0.826255</td>\n",
              "      <td>0.851429</td>\n",
              "    </tr>\n",
              "    <tr>\n",
              "      <th>4</th>\n",
              "      <td>MultinomialNB</td>\n",
              "      <td>0.980269</td>\n",
              "      <td>0.986314</td>\n",
              "      <td>0.938356</td>\n",
              "      <td>0.948161</td>\n",
              "      <td>0.913333</td>\n",
              "      <td>0.949749</td>\n",
              "      <td>0.925676</td>\n",
              "      <td>0.948954</td>\n",
              "    </tr>\n",
              "    <tr>\n",
              "      <th>5</th>\n",
              "      <td>GaussianNB</td>\n",
              "      <td>0.839462</td>\n",
              "      <td>0.867624</td>\n",
              "      <td>0.451505</td>\n",
              "      <td>0.502949</td>\n",
              "      <td>0.900000</td>\n",
              "      <td>1.000000</td>\n",
              "      <td>0.601336</td>\n",
              "      <td>0.669283</td>\n",
              "    </tr>\n",
              "    <tr>\n",
              "      <th>6</th>\n",
              "      <td>RandomForestClassifier</td>\n",
              "      <td>0.983857</td>\n",
              "      <td>1.000000</td>\n",
              "      <td>0.978261</td>\n",
              "      <td>1.000000</td>\n",
              "      <td>0.900000</td>\n",
              "      <td>1.000000</td>\n",
              "      <td>0.937500</td>\n",
              "      <td>1.000000</td>\n",
              "    </tr>\n",
              "  </tbody>\n",
              "</table>\n",
              "</div>"
            ],
            "text/plain": [
              "                    model  accuracy_test  accuracy_train  precision_test  \\\n",
              "0      LogisticRegression       0.981166        0.993269        0.992366   \n",
              "1  DecisionTreeClassifier       0.960538        1.000000        0.848684   \n",
              "2  RandomForestClassifier       0.983857        1.000000        0.992537   \n",
              "3    KNeighborsClassifier       0.959641        0.964999        0.981651   \n",
              "4           MultinomialNB       0.980269        0.986314        0.938356   \n",
              "5              GaussianNB       0.839462        0.867624        0.451505   \n",
              "6  RandomForestClassifier       0.983857        1.000000        0.978261   \n",
              "\n",
              "   precision_train  recall_test  recall_train  f1score_test  f1score_train  \n",
              "0         0.998243     0.866667      0.951424      0.925267       0.974271  \n",
              "1         1.000000     0.860000      1.000000      0.854305       1.000000  \n",
              "2         1.000000     0.886667      1.000000      0.936620       1.000000  \n",
              "3         0.986755     0.713333      0.748744      0.826255       0.851429  \n",
              "4         0.948161     0.913333      0.949749      0.925676       0.948954  \n",
              "5         0.502949     0.900000      1.000000      0.601336       0.669283  \n",
              "6         1.000000     0.900000      1.000000      0.937500       1.000000  "
            ]
          },
          "metadata": {
            "tags": []
          },
          "execution_count": 47
        }
      ]
    },
    {
      "cell_type": "code",
      "metadata": {
        "colab": {
          "base_uri": "https://localhost:8080/",
          "height": 254
        },
        "id": "9NnERnUPOt98",
        "outputId": "d9cb2642-3230-4263-9181-0272cdfebd3d"
      },
      "source": [
        "model_metrics.loc[6,\"model\"] = \"RandomForest_RandomSearch\" \r\n",
        "model_metrics"
      ],
      "execution_count": 48,
      "outputs": [
        {
          "output_type": "execute_result",
          "data": {
            "text/html": [
              "<div>\n",
              "<style scoped>\n",
              "    .dataframe tbody tr th:only-of-type {\n",
              "        vertical-align: middle;\n",
              "    }\n",
              "\n",
              "    .dataframe tbody tr th {\n",
              "        vertical-align: top;\n",
              "    }\n",
              "\n",
              "    .dataframe thead th {\n",
              "        text-align: right;\n",
              "    }\n",
              "</style>\n",
              "<table border=\"1\" class=\"dataframe\">\n",
              "  <thead>\n",
              "    <tr style=\"text-align: right;\">\n",
              "      <th></th>\n",
              "      <th>model</th>\n",
              "      <th>accuracy_test</th>\n",
              "      <th>accuracy_train</th>\n",
              "      <th>precision_test</th>\n",
              "      <th>precision_train</th>\n",
              "      <th>recall_test</th>\n",
              "      <th>recall_train</th>\n",
              "      <th>f1score_test</th>\n",
              "      <th>f1score_train</th>\n",
              "    </tr>\n",
              "  </thead>\n",
              "  <tbody>\n",
              "    <tr>\n",
              "      <th>0</th>\n",
              "      <td>LogisticRegression</td>\n",
              "      <td>0.981166</td>\n",
              "      <td>0.993269</td>\n",
              "      <td>0.992366</td>\n",
              "      <td>0.998243</td>\n",
              "      <td>0.866667</td>\n",
              "      <td>0.951424</td>\n",
              "      <td>0.925267</td>\n",
              "      <td>0.974271</td>\n",
              "    </tr>\n",
              "    <tr>\n",
              "      <th>1</th>\n",
              "      <td>DecisionTreeClassifier</td>\n",
              "      <td>0.960538</td>\n",
              "      <td>1.000000</td>\n",
              "      <td>0.848684</td>\n",
              "      <td>1.000000</td>\n",
              "      <td>0.860000</td>\n",
              "      <td>1.000000</td>\n",
              "      <td>0.854305</td>\n",
              "      <td>1.000000</td>\n",
              "    </tr>\n",
              "    <tr>\n",
              "      <th>2</th>\n",
              "      <td>RandomForestClassifier</td>\n",
              "      <td>0.983857</td>\n",
              "      <td>1.000000</td>\n",
              "      <td>0.992537</td>\n",
              "      <td>1.000000</td>\n",
              "      <td>0.886667</td>\n",
              "      <td>1.000000</td>\n",
              "      <td>0.936620</td>\n",
              "      <td>1.000000</td>\n",
              "    </tr>\n",
              "    <tr>\n",
              "      <th>3</th>\n",
              "      <td>KNeighborsClassifier</td>\n",
              "      <td>0.959641</td>\n",
              "      <td>0.964999</td>\n",
              "      <td>0.981651</td>\n",
              "      <td>0.986755</td>\n",
              "      <td>0.713333</td>\n",
              "      <td>0.748744</td>\n",
              "      <td>0.826255</td>\n",
              "      <td>0.851429</td>\n",
              "    </tr>\n",
              "    <tr>\n",
              "      <th>4</th>\n",
              "      <td>MultinomialNB</td>\n",
              "      <td>0.980269</td>\n",
              "      <td>0.986314</td>\n",
              "      <td>0.938356</td>\n",
              "      <td>0.948161</td>\n",
              "      <td>0.913333</td>\n",
              "      <td>0.949749</td>\n",
              "      <td>0.925676</td>\n",
              "      <td>0.948954</td>\n",
              "    </tr>\n",
              "    <tr>\n",
              "      <th>5</th>\n",
              "      <td>GaussianNB</td>\n",
              "      <td>0.839462</td>\n",
              "      <td>0.867624</td>\n",
              "      <td>0.451505</td>\n",
              "      <td>0.502949</td>\n",
              "      <td>0.900000</td>\n",
              "      <td>1.000000</td>\n",
              "      <td>0.601336</td>\n",
              "      <td>0.669283</td>\n",
              "    </tr>\n",
              "    <tr>\n",
              "      <th>6</th>\n",
              "      <td>RandomForest_RandomSearch</td>\n",
              "      <td>0.983857</td>\n",
              "      <td>1.000000</td>\n",
              "      <td>0.978261</td>\n",
              "      <td>1.000000</td>\n",
              "      <td>0.900000</td>\n",
              "      <td>1.000000</td>\n",
              "      <td>0.937500</td>\n",
              "      <td>1.000000</td>\n",
              "    </tr>\n",
              "  </tbody>\n",
              "</table>\n",
              "</div>"
            ],
            "text/plain": [
              "                       model  accuracy_test  accuracy_train  precision_test  \\\n",
              "0         LogisticRegression       0.981166        0.993269        0.992366   \n",
              "1     DecisionTreeClassifier       0.960538        1.000000        0.848684   \n",
              "2     RandomForestClassifier       0.983857        1.000000        0.992537   \n",
              "3       KNeighborsClassifier       0.959641        0.964999        0.981651   \n",
              "4              MultinomialNB       0.980269        0.986314        0.938356   \n",
              "5                 GaussianNB       0.839462        0.867624        0.451505   \n",
              "6  RandomForest_RandomSearch       0.983857        1.000000        0.978261   \n",
              "\n",
              "   precision_train  recall_test  recall_train  f1score_test  f1score_train  \n",
              "0         0.998243     0.866667      0.951424      0.925267       0.974271  \n",
              "1         1.000000     0.860000      1.000000      0.854305       1.000000  \n",
              "2         1.000000     0.886667      1.000000      0.936620       1.000000  \n",
              "3         0.986755     0.713333      0.748744      0.826255       0.851429  \n",
              "4         0.948161     0.913333      0.949749      0.925676       0.948954  \n",
              "5         0.502949     0.900000      1.000000      0.601336       0.669283  \n",
              "6         1.000000     0.900000      1.000000      0.937500       1.000000  "
            ]
          },
          "metadata": {
            "tags": []
          },
          "execution_count": 48
        }
      ]
    },
    {
      "cell_type": "code",
      "metadata": {
        "colab": {
          "base_uri": "https://localhost:8080/",
          "height": 271
        },
        "id": "QbITIOY5WIGx",
        "outputId": "90e1c18d-0c92-45f7-89cb-9f21e4039797"
      },
      "source": [
        "# Test data metrics\r\n",
        "print(\" Base model and parameterized prediction: Test data metrics\")\r\n",
        "model_metrics.iloc[:,[0,1,3,5,7]]"
      ],
      "execution_count": 49,
      "outputs": [
        {
          "output_type": "stream",
          "text": [
            " Base model and parameterized prediction: Test data metrics\n"
          ],
          "name": "stdout"
        },
        {
          "output_type": "execute_result",
          "data": {
            "text/html": [
              "<div>\n",
              "<style scoped>\n",
              "    .dataframe tbody tr th:only-of-type {\n",
              "        vertical-align: middle;\n",
              "    }\n",
              "\n",
              "    .dataframe tbody tr th {\n",
              "        vertical-align: top;\n",
              "    }\n",
              "\n",
              "    .dataframe thead th {\n",
              "        text-align: right;\n",
              "    }\n",
              "</style>\n",
              "<table border=\"1\" class=\"dataframe\">\n",
              "  <thead>\n",
              "    <tr style=\"text-align: right;\">\n",
              "      <th></th>\n",
              "      <th>model</th>\n",
              "      <th>accuracy_test</th>\n",
              "      <th>precision_test</th>\n",
              "      <th>recall_test</th>\n",
              "      <th>f1score_test</th>\n",
              "    </tr>\n",
              "  </thead>\n",
              "  <tbody>\n",
              "    <tr>\n",
              "      <th>0</th>\n",
              "      <td>LogisticRegression</td>\n",
              "      <td>0.981166</td>\n",
              "      <td>0.992366</td>\n",
              "      <td>0.866667</td>\n",
              "      <td>0.925267</td>\n",
              "    </tr>\n",
              "    <tr>\n",
              "      <th>1</th>\n",
              "      <td>DecisionTreeClassifier</td>\n",
              "      <td>0.960538</td>\n",
              "      <td>0.848684</td>\n",
              "      <td>0.860000</td>\n",
              "      <td>0.854305</td>\n",
              "    </tr>\n",
              "    <tr>\n",
              "      <th>2</th>\n",
              "      <td>RandomForestClassifier</td>\n",
              "      <td>0.983857</td>\n",
              "      <td>0.992537</td>\n",
              "      <td>0.886667</td>\n",
              "      <td>0.936620</td>\n",
              "    </tr>\n",
              "    <tr>\n",
              "      <th>3</th>\n",
              "      <td>KNeighborsClassifier</td>\n",
              "      <td>0.959641</td>\n",
              "      <td>0.981651</td>\n",
              "      <td>0.713333</td>\n",
              "      <td>0.826255</td>\n",
              "    </tr>\n",
              "    <tr>\n",
              "      <th>4</th>\n",
              "      <td>MultinomialNB</td>\n",
              "      <td>0.980269</td>\n",
              "      <td>0.938356</td>\n",
              "      <td>0.913333</td>\n",
              "      <td>0.925676</td>\n",
              "    </tr>\n",
              "    <tr>\n",
              "      <th>5</th>\n",
              "      <td>GaussianNB</td>\n",
              "      <td>0.839462</td>\n",
              "      <td>0.451505</td>\n",
              "      <td>0.900000</td>\n",
              "      <td>0.601336</td>\n",
              "    </tr>\n",
              "    <tr>\n",
              "      <th>6</th>\n",
              "      <td>RandomForest_RandomSearch</td>\n",
              "      <td>0.983857</td>\n",
              "      <td>0.978261</td>\n",
              "      <td>0.900000</td>\n",
              "      <td>0.937500</td>\n",
              "    </tr>\n",
              "  </tbody>\n",
              "</table>\n",
              "</div>"
            ],
            "text/plain": [
              "                       model  accuracy_test  precision_test  recall_test  \\\n",
              "0         LogisticRegression       0.981166        0.992366     0.866667   \n",
              "1     DecisionTreeClassifier       0.960538        0.848684     0.860000   \n",
              "2     RandomForestClassifier       0.983857        0.992537     0.886667   \n",
              "3       KNeighborsClassifier       0.959641        0.981651     0.713333   \n",
              "4              MultinomialNB       0.980269        0.938356     0.913333   \n",
              "5                 GaussianNB       0.839462        0.451505     0.900000   \n",
              "6  RandomForest_RandomSearch       0.983857        0.978261     0.900000   \n",
              "\n",
              "   f1score_test  \n",
              "0      0.925267  \n",
              "1      0.854305  \n",
              "2      0.936620  \n",
              "3      0.826255  \n",
              "4      0.925676  \n",
              "5      0.601336  \n",
              "6      0.937500  "
            ]
          },
          "metadata": {
            "tags": []
          },
          "execution_count": 49
        }
      ]
    },
    {
      "cell_type": "code",
      "metadata": {
        "colab": {
          "base_uri": "https://localhost:8080/",
          "height": 271
        },
        "id": "2CGc78J3YGhA",
        "outputId": "f8726dae-8974-4f0f-c01d-3d22af492d0d"
      },
      "source": [
        "# Test data metrics\r\n",
        "print(\" Base model and parameterized prediction: Train data metrics\")\r\n",
        "model_metrics.iloc[:,[0,2,4,6,8]]"
      ],
      "execution_count": 50,
      "outputs": [
        {
          "output_type": "stream",
          "text": [
            " Base model and parameterized prediction: Train data metrics\n"
          ],
          "name": "stdout"
        },
        {
          "output_type": "execute_result",
          "data": {
            "text/html": [
              "<div>\n",
              "<style scoped>\n",
              "    .dataframe tbody tr th:only-of-type {\n",
              "        vertical-align: middle;\n",
              "    }\n",
              "\n",
              "    .dataframe tbody tr th {\n",
              "        vertical-align: top;\n",
              "    }\n",
              "\n",
              "    .dataframe thead th {\n",
              "        text-align: right;\n",
              "    }\n",
              "</style>\n",
              "<table border=\"1\" class=\"dataframe\">\n",
              "  <thead>\n",
              "    <tr style=\"text-align: right;\">\n",
              "      <th></th>\n",
              "      <th>model</th>\n",
              "      <th>accuracy_train</th>\n",
              "      <th>precision_train</th>\n",
              "      <th>recall_train</th>\n",
              "      <th>f1score_train</th>\n",
              "    </tr>\n",
              "  </thead>\n",
              "  <tbody>\n",
              "    <tr>\n",
              "      <th>0</th>\n",
              "      <td>LogisticRegression</td>\n",
              "      <td>0.993269</td>\n",
              "      <td>0.998243</td>\n",
              "      <td>0.951424</td>\n",
              "      <td>0.974271</td>\n",
              "    </tr>\n",
              "    <tr>\n",
              "      <th>1</th>\n",
              "      <td>DecisionTreeClassifier</td>\n",
              "      <td>1.000000</td>\n",
              "      <td>1.000000</td>\n",
              "      <td>1.000000</td>\n",
              "      <td>1.000000</td>\n",
              "    </tr>\n",
              "    <tr>\n",
              "      <th>2</th>\n",
              "      <td>RandomForestClassifier</td>\n",
              "      <td>1.000000</td>\n",
              "      <td>1.000000</td>\n",
              "      <td>1.000000</td>\n",
              "      <td>1.000000</td>\n",
              "    </tr>\n",
              "    <tr>\n",
              "      <th>3</th>\n",
              "      <td>KNeighborsClassifier</td>\n",
              "      <td>0.964999</td>\n",
              "      <td>0.986755</td>\n",
              "      <td>0.748744</td>\n",
              "      <td>0.851429</td>\n",
              "    </tr>\n",
              "    <tr>\n",
              "      <th>4</th>\n",
              "      <td>MultinomialNB</td>\n",
              "      <td>0.986314</td>\n",
              "      <td>0.948161</td>\n",
              "      <td>0.949749</td>\n",
              "      <td>0.948954</td>\n",
              "    </tr>\n",
              "    <tr>\n",
              "      <th>5</th>\n",
              "      <td>GaussianNB</td>\n",
              "      <td>0.867624</td>\n",
              "      <td>0.502949</td>\n",
              "      <td>1.000000</td>\n",
              "      <td>0.669283</td>\n",
              "    </tr>\n",
              "    <tr>\n",
              "      <th>6</th>\n",
              "      <td>RandomForest_RandomSearch</td>\n",
              "      <td>1.000000</td>\n",
              "      <td>1.000000</td>\n",
              "      <td>1.000000</td>\n",
              "      <td>1.000000</td>\n",
              "    </tr>\n",
              "  </tbody>\n",
              "</table>\n",
              "</div>"
            ],
            "text/plain": [
              "                       model  accuracy_train  precision_train  recall_train  \\\n",
              "0         LogisticRegression        0.993269         0.998243      0.951424   \n",
              "1     DecisionTreeClassifier        1.000000         1.000000      1.000000   \n",
              "2     RandomForestClassifier        1.000000         1.000000      1.000000   \n",
              "3       KNeighborsClassifier        0.964999         0.986755      0.748744   \n",
              "4              MultinomialNB        0.986314         0.948161      0.949749   \n",
              "5                 GaussianNB        0.867624         0.502949      1.000000   \n",
              "6  RandomForest_RandomSearch        1.000000         1.000000      1.000000   \n",
              "\n",
              "   f1score_train  \n",
              "0       0.974271  \n",
              "1       1.000000  \n",
              "2       1.000000  \n",
              "3       0.851429  \n",
              "4       0.948954  \n",
              "5       0.669283  \n",
              "6       1.000000  "
            ]
          },
          "metadata": {
            "tags": []
          },
          "execution_count": 50
        }
      ]
    },
    {
      "cell_type": "markdown",
      "metadata": {
        "id": "So7z8cKx75eo"
      },
      "source": [
        "Observation:\r\n",
        "\r\n",
        "  * Highest accuracy of 98.3% for test data and 99.68% for train data, which means approx 98% of our predictions are correct.\r\n",
        "  * Precision of  100% for test data and train data which means, approx 100% of the spam messages where predicted correctly out of the total predictions.\r\n",
        "  * Around approx. (12%) of the spam data where missed and wrongly predicted as not spam."
      ]
    },
    {
      "cell_type": "markdown",
      "metadata": {
        "id": "cfhWbUyU9cOe"
      },
      "source": [
        "<a id=section6040203></a>\r\n",
        "### 6.4.3 Parameterized K Nearest Neighbour"
      ]
    },
    {
      "cell_type": "markdown",
      "metadata": {
        "id": "oDh6ZPp-1cVi"
      },
      "source": [
        "The following piece of code, helps us in identifying the best k value for maximum precision in the spam classification dataset."
      ]
    },
    {
      "cell_type": "code",
      "metadata": {
        "id": "tBduS1HOu27r"
      },
      "source": [
        "from sklearn.model_selection import cross_val_score\r\n",
        "# creating list of K for KNN\r\n",
        "k_list = list(range(6,20,2))\r\n",
        "# creating list of cv scores\r\n",
        "cv_scores = []\r\n",
        "# perform 10-fold cross validation\r\n",
        "for k in k_list:\r\n",
        "    knn = KNeighborsClassifier(n_neighbors=k)\r\n",
        "    scores = cross_val_score(knn, X_train, y_train, cv=10, scoring='precision')\r\n",
        "    cv_scores.append(scores.mean())"
      ],
      "execution_count": 51,
      "outputs": []
    },
    {
      "cell_type": "code",
      "metadata": {
        "colab": {
          "base_uri": "https://localhost:8080/",
          "height": 377
        },
        "id": "AMYNJAAjvx3b",
        "outputId": "1c14afeb-0619-4b01-e50f-0f672aac2a1c"
      },
      "source": [
        "# changing to misclassification error\r\n",
        "pre = [1 - x for x in cv_scores]\r\n",
        "\r\n",
        "plt.figure()\r\n",
        "plt.figure(figsize=(10,5))\r\n",
        "plt.title('The optimal number of neighbors', fontsize=20, fontweight='bold')\r\n",
        "plt.xlabel('Number of Neighbors K', fontsize=15)\r\n",
        "plt.ylabel('Misclassification Error', fontsize=15)\r\n",
        "sns.set_style(\"whitegrid\")\r\n",
        "plt.plot(k_list, pre)\r\n",
        "plt.show();"
      ],
      "execution_count": 52,
      "outputs": [
        {
          "output_type": "display_data",
          "data": {
            "text/plain": [
              "<Figure size 432x288 with 0 Axes>"
            ]
          },
          "metadata": {
            "tags": []
          }
        },
        {
          "output_type": "display_data",
          "data": {
            "image/png": "[encoded data removed]",
            "text/plain": [
              "<Figure size 720x360 with 1 Axes>"
            ]
          },
          "metadata": {
            "tags": [],
            "needs_background": "light"
          }
        }
      ]
    },
    {
      "cell_type": "code",
      "metadata": {
        "colab": {
          "base_uri": "https://localhost:8080/"
        },
        "id": "sqEDpeIZ1N0w",
        "outputId": "e34d570b-2609-4168-b48e-5e250b4f3cfa"
      },
      "source": [
        "# finding best k\r\n",
        "best_k = k_list[pre.index(min(pre))]\r\n",
        "print(\"The optimal number of neighbors is %d.\" % best_k)"
      ],
      "execution_count": 53,
      "outputs": [
        {
          "output_type": "stream",
          "text": [
            "The optimal number of neighbors is 8.\n"
          ],
          "name": "stdout"
        }
      ]
    },
    {
      "cell_type": "code",
      "metadata": {
        "colab": {
          "base_uri": "https://localhost:8080/",
          "height": 334
        },
        "id": "5y7HtLwd1v-v",
        "outputId": "a08f8be3-b091-468a-cac3-4e221cfde45e"
      },
      "source": [
        "knnmodel = KNeighborsClassifier(n_neighbors=8)\r\n",
        "knnmodel.fit(X_train, y_train)\r\n",
        "y_pred_test = knnmodel.predict(X_test)\r\n",
        "y_pred_train = knnmodel.predict(X_train)\r\n",
        "model_metrics = get_metrics(y_train,y_pred_train,y_test,y_pred_test,model_metrics, knnmodel)\r\n",
        "model_metrics"
      ],
      "execution_count": 54,
      "outputs": [
        {
          "output_type": "execute_result",
          "data": {
            "text/plain": [
              "KNeighborsClassifier(algorithm='auto', leaf_size=30, metric='minkowski',\n",
              "                     metric_params=None, n_jobs=None, n_neighbors=8, p=2,\n",
              "                     weights='uniform')"
            ]
          },
          "metadata": {
            "tags": []
          },
          "execution_count": 54
        },
        {
          "output_type": "execute_result",
          "data": {
            "text/html": [
              "<div>\n",
              "<style scoped>\n",
              "    .dataframe tbody tr th:only-of-type {\n",
              "        vertical-align: middle;\n",
              "    }\n",
              "\n",
              "    .dataframe tbody tr th {\n",
              "        vertical-align: top;\n",
              "    }\n",
              "\n",
              "    .dataframe thead th {\n",
              "        text-align: right;\n",
              "    }\n",
              "</style>\n",
              "<table border=\"1\" class=\"dataframe\">\n",
              "  <thead>\n",
              "    <tr style=\"text-align: right;\">\n",
              "      <th></th>\n",
              "      <th>model</th>\n",
              "      <th>accuracy_test</th>\n",
              "      <th>accuracy_train</th>\n",
              "      <th>precision_test</th>\n",
              "      <th>precision_train</th>\n",
              "      <th>recall_test</th>\n",
              "      <th>recall_train</th>\n",
              "      <th>f1score_test</th>\n",
              "      <th>f1score_train</th>\n",
              "    </tr>\n",
              "  </thead>\n",
              "  <tbody>\n",
              "    <tr>\n",
              "      <th>0</th>\n",
              "      <td>LogisticRegression</td>\n",
              "      <td>0.981166</td>\n",
              "      <td>0.993269</td>\n",
              "      <td>0.992366</td>\n",
              "      <td>0.998243</td>\n",
              "      <td>0.866667</td>\n",
              "      <td>0.951424</td>\n",
              "      <td>0.925267</td>\n",
              "      <td>0.974271</td>\n",
              "    </tr>\n",
              "    <tr>\n",
              "      <th>1</th>\n",
              "      <td>DecisionTreeClassifier</td>\n",
              "      <td>0.960538</td>\n",
              "      <td>1.000000</td>\n",
              "      <td>0.848684</td>\n",
              "      <td>1.000000</td>\n",
              "      <td>0.860000</td>\n",
              "      <td>1.000000</td>\n",
              "      <td>0.854305</td>\n",
              "      <td>1.000000</td>\n",
              "    </tr>\n",
              "    <tr>\n",
              "      <th>2</th>\n",
              "      <td>RandomForestClassifier</td>\n",
              "      <td>0.983857</td>\n",
              "      <td>1.000000</td>\n",
              "      <td>0.992537</td>\n",
              "      <td>1.000000</td>\n",
              "      <td>0.886667</td>\n",
              "      <td>1.000000</td>\n",
              "      <td>0.936620</td>\n",
              "      <td>1.000000</td>\n",
              "    </tr>\n",
              "    <tr>\n",
              "      <th>3</th>\n",
              "      <td>KNeighborsClassifier</td>\n",
              "      <td>0.959641</td>\n",
              "      <td>0.964999</td>\n",
              "      <td>0.981651</td>\n",
              "      <td>0.986755</td>\n",
              "      <td>0.713333</td>\n",
              "      <td>0.748744</td>\n",
              "      <td>0.826255</td>\n",
              "      <td>0.851429</td>\n",
              "    </tr>\n",
              "    <tr>\n",
              "      <th>4</th>\n",
              "      <td>MultinomialNB</td>\n",
              "      <td>0.980269</td>\n",
              "      <td>0.986314</td>\n",
              "      <td>0.938356</td>\n",
              "      <td>0.948161</td>\n",
              "      <td>0.913333</td>\n",
              "      <td>0.949749</td>\n",
              "      <td>0.925676</td>\n",
              "      <td>0.948954</td>\n",
              "    </tr>\n",
              "    <tr>\n",
              "      <th>5</th>\n",
              "      <td>GaussianNB</td>\n",
              "      <td>0.839462</td>\n",
              "      <td>0.867624</td>\n",
              "      <td>0.451505</td>\n",
              "      <td>0.502949</td>\n",
              "      <td>0.900000</td>\n",
              "      <td>1.000000</td>\n",
              "      <td>0.601336</td>\n",
              "      <td>0.669283</td>\n",
              "    </tr>\n",
              "    <tr>\n",
              "      <th>6</th>\n",
              "      <td>RandomForest_RandomSearch</td>\n",
              "      <td>0.983857</td>\n",
              "      <td>1.000000</td>\n",
              "      <td>0.978261</td>\n",
              "      <td>1.000000</td>\n",
              "      <td>0.900000</td>\n",
              "      <td>1.000000</td>\n",
              "      <td>0.937500</td>\n",
              "      <td>1.000000</td>\n",
              "    </tr>\n",
              "    <tr>\n",
              "      <th>7</th>\n",
              "      <td>KNeighborsClassifier</td>\n",
              "      <td>0.942601</td>\n",
              "      <td>0.950191</td>\n",
              "      <td>0.977778</td>\n",
              "      <td>0.997347</td>\n",
              "      <td>0.586667</td>\n",
              "      <td>0.629816</td>\n",
              "      <td>0.733333</td>\n",
              "      <td>0.772074</td>\n",
              "    </tr>\n",
              "  </tbody>\n",
              "</table>\n",
              "</div>"
            ],
            "text/plain": [
              "                       model  accuracy_test  accuracy_train  precision_test  \\\n",
              "0         LogisticRegression       0.981166        0.993269        0.992366   \n",
              "1     DecisionTreeClassifier       0.960538        1.000000        0.848684   \n",
              "2     RandomForestClassifier       0.983857        1.000000        0.992537   \n",
              "3       KNeighborsClassifier       0.959641        0.964999        0.981651   \n",
              "4              MultinomialNB       0.980269        0.986314        0.938356   \n",
              "5                 GaussianNB       0.839462        0.867624        0.451505   \n",
              "6  RandomForest_RandomSearch       0.983857        1.000000        0.978261   \n",
              "7       KNeighborsClassifier       0.942601        0.950191        0.977778   \n",
              "\n",
              "   precision_train  recall_test  recall_train  f1score_test  f1score_train  \n",
              "0         0.998243     0.866667      0.951424      0.925267       0.974271  \n",
              "1         1.000000     0.860000      1.000000      0.854305       1.000000  \n",
              "2         1.000000     0.886667      1.000000      0.936620       1.000000  \n",
              "3         0.986755     0.713333      0.748744      0.826255       0.851429  \n",
              "4         0.948161     0.913333      0.949749      0.925676       0.948954  \n",
              "5         0.502949     0.900000      1.000000      0.601336       0.669283  \n",
              "6         1.000000     0.900000      1.000000      0.937500       1.000000  \n",
              "7         0.997347     0.586667      0.629816      0.733333       0.772074  "
            ]
          },
          "metadata": {
            "tags": []
          },
          "execution_count": 54
        }
      ]
    },
    {
      "cell_type": "code",
      "metadata": {
        "colab": {
          "base_uri": "https://localhost:8080/",
          "height": 301
        },
        "id": "xvL6ZR0r3Y2f",
        "outputId": "6dd20b5f-cb7c-45a6-b3f8-802b12a62922"
      },
      "source": [
        "model_metrics.loc[7,\"model\"] = \"KNNClassifier_BestK\" \r\n",
        "# Test data metrics\r\n",
        "print(\" Base model prediction: Test data metrics\")\r\n",
        "model_metrics.iloc[:,[0,1,3,5,7]]"
      ],
      "execution_count": 55,
      "outputs": [
        {
          "output_type": "stream",
          "text": [
            " Base model prediction: Test data metrics\n"
          ],
          "name": "stdout"
        },
        {
          "output_type": "execute_result",
          "data": {
            "text/html": [
              "<div>\n",
              "<style scoped>\n",
              "    .dataframe tbody tr th:only-of-type {\n",
              "        vertical-align: middle;\n",
              "    }\n",
              "\n",
              "    .dataframe tbody tr th {\n",
              "        vertical-align: top;\n",
              "    }\n",
              "\n",
              "    .dataframe thead th {\n",
              "        text-align: right;\n",
              "    }\n",
              "</style>\n",
              "<table border=\"1\" class=\"dataframe\">\n",
              "  <thead>\n",
              "    <tr style=\"text-align: right;\">\n",
              "      <th></th>\n",
              "      <th>model</th>\n",
              "      <th>accuracy_test</th>\n",
              "      <th>precision_test</th>\n",
              "      <th>recall_test</th>\n",
              "      <th>f1score_test</th>\n",
              "    </tr>\n",
              "  </thead>\n",
              "  <tbody>\n",
              "    <tr>\n",
              "      <th>0</th>\n",
              "      <td>LogisticRegression</td>\n",
              "      <td>0.981166</td>\n",
              "      <td>0.992366</td>\n",
              "      <td>0.866667</td>\n",
              "      <td>0.925267</td>\n",
              "    </tr>\n",
              "    <tr>\n",
              "      <th>1</th>\n",
              "      <td>DecisionTreeClassifier</td>\n",
              "      <td>0.960538</td>\n",
              "      <td>0.848684</td>\n",
              "      <td>0.860000</td>\n",
              "      <td>0.854305</td>\n",
              "    </tr>\n",
              "    <tr>\n",
              "      <th>2</th>\n",
              "      <td>RandomForestClassifier</td>\n",
              "      <td>0.983857</td>\n",
              "      <td>0.992537</td>\n",
              "      <td>0.886667</td>\n",
              "      <td>0.936620</td>\n",
              "    </tr>\n",
              "    <tr>\n",
              "      <th>3</th>\n",
              "      <td>KNeighborsClassifier</td>\n",
              "      <td>0.959641</td>\n",
              "      <td>0.981651</td>\n",
              "      <td>0.713333</td>\n",
              "      <td>0.826255</td>\n",
              "    </tr>\n",
              "    <tr>\n",
              "      <th>4</th>\n",
              "      <td>MultinomialNB</td>\n",
              "      <td>0.980269</td>\n",
              "      <td>0.938356</td>\n",
              "      <td>0.913333</td>\n",
              "      <td>0.925676</td>\n",
              "    </tr>\n",
              "    <tr>\n",
              "      <th>5</th>\n",
              "      <td>GaussianNB</td>\n",
              "      <td>0.839462</td>\n",
              "      <td>0.451505</td>\n",
              "      <td>0.900000</td>\n",
              "      <td>0.601336</td>\n",
              "    </tr>\n",
              "    <tr>\n",
              "      <th>6</th>\n",
              "      <td>RandomForest_RandomSearch</td>\n",
              "      <td>0.983857</td>\n",
              "      <td>0.978261</td>\n",
              "      <td>0.900000</td>\n",
              "      <td>0.937500</td>\n",
              "    </tr>\n",
              "    <tr>\n",
              "      <th>7</th>\n",
              "      <td>KNNClassifier_BestK</td>\n",
              "      <td>0.942601</td>\n",
              "      <td>0.977778</td>\n",
              "      <td>0.586667</td>\n",
              "      <td>0.733333</td>\n",
              "    </tr>\n",
              "  </tbody>\n",
              "</table>\n",
              "</div>"
            ],
            "text/plain": [
              "                       model  accuracy_test  precision_test  recall_test  \\\n",
              "0         LogisticRegression       0.981166        0.992366     0.866667   \n",
              "1     DecisionTreeClassifier       0.960538        0.848684     0.860000   \n",
              "2     RandomForestClassifier       0.983857        0.992537     0.886667   \n",
              "3       KNeighborsClassifier       0.959641        0.981651     0.713333   \n",
              "4              MultinomialNB       0.980269        0.938356     0.913333   \n",
              "5                 GaussianNB       0.839462        0.451505     0.900000   \n",
              "6  RandomForest_RandomSearch       0.983857        0.978261     0.900000   \n",
              "7        KNNClassifier_BestK       0.942601        0.977778     0.586667   \n",
              "\n",
              "   f1score_test  \n",
              "0      0.925267  \n",
              "1      0.854305  \n",
              "2      0.936620  \n",
              "3      0.826255  \n",
              "4      0.925676  \n",
              "5      0.601336  \n",
              "6      0.937500  \n",
              "7      0.733333  "
            ]
          },
          "metadata": {
            "tags": []
          },
          "execution_count": 55
        }
      ]
    },
    {
      "cell_type": "code",
      "metadata": {
        "colab": {
          "base_uri": "https://localhost:8080/",
          "height": 301
        },
        "id": "AW1YsFt435-r",
        "outputId": "7fab5a38-f180-424b-f4eb-7c08ed0e7c87"
      },
      "source": [
        "# Test data metrics\r\n",
        "print(\" Base model prediction: Train data metrics\")\r\n",
        "model_metrics.iloc[:,[0,2,4,6,8]]"
      ],
      "execution_count": 56,
      "outputs": [
        {
          "output_type": "stream",
          "text": [
            " Base model prediction: Train data metrics\n"
          ],
          "name": "stdout"
        },
        {
          "output_type": "execute_result",
          "data": {
            "text/html": [
              "<div>\n",
              "<style scoped>\n",
              "    .dataframe tbody tr th:only-of-type {\n",
              "        vertical-align: middle;\n",
              "    }\n",
              "\n",
              "    .dataframe tbody tr th {\n",
              "        vertical-align: top;\n",
              "    }\n",
              "\n",
              "    .dataframe thead th {\n",
              "        text-align: right;\n",
              "    }\n",
              "</style>\n",
              "<table border=\"1\" class=\"dataframe\">\n",
              "  <thead>\n",
              "    <tr style=\"text-align: right;\">\n",
              "      <th></th>\n",
              "      <th>model</th>\n",
              "      <th>accuracy_train</th>\n",
              "      <th>precision_train</th>\n",
              "      <th>recall_train</th>\n",
              "      <th>f1score_train</th>\n",
              "    </tr>\n",
              "  </thead>\n",
              "  <tbody>\n",
              "    <tr>\n",
              "      <th>0</th>\n",
              "      <td>LogisticRegression</td>\n",
              "      <td>0.993269</td>\n",
              "      <td>0.998243</td>\n",
              "      <td>0.951424</td>\n",
              "      <td>0.974271</td>\n",
              "    </tr>\n",
              "    <tr>\n",
              "      <th>1</th>\n",
              "      <td>DecisionTreeClassifier</td>\n",
              "      <td>1.000000</td>\n",
              "      <td>1.000000</td>\n",
              "      <td>1.000000</td>\n",
              "      <td>1.000000</td>\n",
              "    </tr>\n",
              "    <tr>\n",
              "      <th>2</th>\n",
              "      <td>RandomForestClassifier</td>\n",
              "      <td>1.000000</td>\n",
              "      <td>1.000000</td>\n",
              "      <td>1.000000</td>\n",
              "      <td>1.000000</td>\n",
              "    </tr>\n",
              "    <tr>\n",
              "      <th>3</th>\n",
              "      <td>KNeighborsClassifier</td>\n",
              "      <td>0.964999</td>\n",
              "      <td>0.986755</td>\n",
              "      <td>0.748744</td>\n",
              "      <td>0.851429</td>\n",
              "    </tr>\n",
              "    <tr>\n",
              "      <th>4</th>\n",
              "      <td>MultinomialNB</td>\n",
              "      <td>0.986314</td>\n",
              "      <td>0.948161</td>\n",
              "      <td>0.949749</td>\n",
              "      <td>0.948954</td>\n",
              "    </tr>\n",
              "    <tr>\n",
              "      <th>5</th>\n",
              "      <td>GaussianNB</td>\n",
              "      <td>0.867624</td>\n",
              "      <td>0.502949</td>\n",
              "      <td>1.000000</td>\n",
              "      <td>0.669283</td>\n",
              "    </tr>\n",
              "    <tr>\n",
              "      <th>6</th>\n",
              "      <td>RandomForest_RandomSearch</td>\n",
              "      <td>1.000000</td>\n",
              "      <td>1.000000</td>\n",
              "      <td>1.000000</td>\n",
              "      <td>1.000000</td>\n",
              "    </tr>\n",
              "    <tr>\n",
              "      <th>7</th>\n",
              "      <td>KNNClassifier_BestK</td>\n",
              "      <td>0.950191</td>\n",
              "      <td>0.997347</td>\n",
              "      <td>0.629816</td>\n",
              "      <td>0.772074</td>\n",
              "    </tr>\n",
              "  </tbody>\n",
              "</table>\n",
              "</div>"
            ],
            "text/plain": [
              "                       model  accuracy_train  precision_train  recall_train  \\\n",
              "0         LogisticRegression        0.993269         0.998243      0.951424   \n",
              "1     DecisionTreeClassifier        1.000000         1.000000      1.000000   \n",
              "2     RandomForestClassifier        1.000000         1.000000      1.000000   \n",
              "3       KNeighborsClassifier        0.964999         0.986755      0.748744   \n",
              "4              MultinomialNB        0.986314         0.948161      0.949749   \n",
              "5                 GaussianNB        0.867624         0.502949      1.000000   \n",
              "6  RandomForest_RandomSearch        1.000000         1.000000      1.000000   \n",
              "7        KNNClassifier_BestK        0.950191         0.997347      0.629816   \n",
              "\n",
              "   f1score_train  \n",
              "0       0.974271  \n",
              "1       1.000000  \n",
              "2       1.000000  \n",
              "3       0.851429  \n",
              "4       0.948954  \n",
              "5       0.669283  \n",
              "6       1.000000  \n",
              "7       0.772074  "
            ]
          },
          "metadata": {
            "tags": []
          },
          "execution_count": 56
        }
      ]
    },
    {
      "cell_type": "markdown",
      "metadata": {
        "id": "Re4v9eHsEqJ3"
      },
      "source": [
        "Observation:\r\n",
        "  * K Nearest Neighbor with optimal K, gives a depreciated result when compared to the base model.\r\n",
        "  * Parameters defined were : algorithm='auto', leaf_size=30, metric='minkowski', metric_params=None, n_jobs=None, n_neighbors=8, p=2, weights='uniform'\r\n",
        "  * Accuracy of 94.26% for test data and 95.01% for train data, which means approx 94% of our predictions are correct.\r\n",
        "  * Precision of  97.7% for test data and 99.73% for train data which means, approx 98% of the spam messages where predicted correctly out of the total predictions.\r\n",
        "  * Around approx. (38%) of the spam data where missed and wrongly predicted as not spam."
      ]
    },
    {
      "cell_type": "markdown",
      "metadata": {
        "id": "Z04kjtvFFvpg"
      },
      "source": [
        "<a id='section7'></a>\r\n",
        "# 7. Conclusion"
      ]
    },
    {
      "cell_type": "code",
      "metadata": {
        "colab": {
          "base_uri": "https://localhost:8080/",
          "height": 421
        },
        "id": "K9xvDWVUF1b-",
        "outputId": "53fd6872-e541-466c-84a1-d7fa33b2a4d1"
      },
      "source": [
        "df_test = model_metrics.iloc[:,[0,1,3,5,7]].copy()\r\n",
        "df_test.set_index('model', inplace=True)\r\n",
        "plt.figure(figsize=(15,4))\r\n",
        "sns.lineplot(data = df_test)\r\n",
        "plt.xticks(rotation=90)\r\n",
        "plt.yticks(np.arange(0.4, 1, step=0.05))\r\n",
        "plt.legend(loc = 'upper_right')\r\n",
        "plt.show();"
      ],
      "execution_count": 57,
      "outputs": [
        {
          "output_type": "display_data",
          "data": {
            "image/png": "[encoded data removed]",
            "text/plain": [
              "<Figure size 1080x288 with 1 Axes>"
            ]
          },
          "metadata": {
            "tags": []
          }
        }
      ]
    },
    {
      "cell_type": "markdown",
      "metadata": {
        "id": "hI7OrK5NE8W9"
      },
      "source": [
        "Conclusions:\r\n",
        "\r\n",
        "Here by I conclude that the Random Forest Classifier with randomized search is the best model for spam detection dataset"
      ]
    }
  ]
}